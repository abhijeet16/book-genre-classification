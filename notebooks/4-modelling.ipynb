{
 "cells": [
  {
   "cell_type": "markdown",
   "id": "34de511e",
   "metadata": {},
   "source": [
    "# Libraries"
   ]
  },
  {
   "cell_type": "code",
   "execution_count": 1,
   "id": "b58ee832",
   "metadata": {},
   "outputs": [],
   "source": [
    "import numpy as np\n",
    "import pandas as pd\n",
    "\n",
    "from sklearn.model_selection import train_test_split\n",
    "\n",
    "from sklearn.model_selection import cross_val_score\n",
    "from sklearn.metrics import f1_score, precision_score, recall_score, accuracy_score\n",
    "from sklearn.metrics import confusion_matrix, ConfusionMatrixDisplay\n",
    "from sklearn.metrics import classification_report\n",
    "\n",
    "from sklearn.neural_network import MLPClassifier\n",
    "from sklearn.ensemble import RandomForestClassifier\n",
    "from sklearn.svm import SVC\n",
    "from sklearn.ensemble import AdaBoostClassifier\n",
    "from sklearn.linear_model import SGDClassifier\n",
    "from xgboost import XGBClassifier\n",
    "\n",
    "from sklearn.preprocessing import LabelEncoder\n",
    "\n",
    "from sklearn.model_selection import GridSearchCV\n",
    "\n",
    "import matplotlib.pyplot as plt\n",
    "import seaborn as sns\n",
    "\n",
    "import time"
   ]
  },
  {
   "cell_type": "markdown",
   "id": "7a9d7b4b",
   "metadata": {},
   "source": [
    "# Import data"
   ]
  },
  {
   "cell_type": "code",
   "execution_count": 2,
   "id": "545c3f10",
   "metadata": {},
   "outputs": [
    {
     "data": {
      "text/html": [
       "<div>\n",
       "<style scoped>\n",
       "    .dataframe tbody tr th:only-of-type {\n",
       "        vertical-align: middle;\n",
       "    }\n",
       "\n",
       "    .dataframe tbody tr th {\n",
       "        vertical-align: top;\n",
       "    }\n",
       "\n",
       "    .dataframe thead th {\n",
       "        text-align: right;\n",
       "    }\n",
       "</style>\n",
       "<table border=\"1\" class=\"dataframe\">\n",
       "  <thead>\n",
       "    <tr style=\"text-align: right;\">\n",
       "      <th></th>\n",
       "      <th>0</th>\n",
       "      <th>1</th>\n",
       "      <th>2</th>\n",
       "      <th>3</th>\n",
       "      <th>4</th>\n",
       "      <th>5</th>\n",
       "      <th>6</th>\n",
       "      <th>7</th>\n",
       "      <th>8</th>\n",
       "      <th>9</th>\n",
       "      <th>...</th>\n",
       "      <th>502</th>\n",
       "      <th>503</th>\n",
       "      <th>504</th>\n",
       "      <th>505</th>\n",
       "      <th>506</th>\n",
       "      <th>507</th>\n",
       "      <th>508</th>\n",
       "      <th>509</th>\n",
       "      <th>510</th>\n",
       "      <th>511</th>\n",
       "    </tr>\n",
       "  </thead>\n",
       "  <tbody>\n",
       "    <tr>\n",
       "      <th>0</th>\n",
       "      <td>37.146960</td>\n",
       "      <td>-0.718577</td>\n",
       "      <td>-73.298584</td>\n",
       "      <td>-67.357710</td>\n",
       "      <td>-53.100407</td>\n",
       "      <td>21.316463</td>\n",
       "      <td>41.753353</td>\n",
       "      <td>32.956703</td>\n",
       "      <td>0.400308</td>\n",
       "      <td>-6.732258</td>\n",
       "      <td>...</td>\n",
       "      <td>-42.584038</td>\n",
       "      <td>-44.468742</td>\n",
       "      <td>-58.364820</td>\n",
       "      <td>53.291164</td>\n",
       "      <td>4.001782</td>\n",
       "      <td>54.231130</td>\n",
       "      <td>65.188090</td>\n",
       "      <td>84.791145</td>\n",
       "      <td>41.844980</td>\n",
       "      <td>53.529175</td>\n",
       "    </tr>\n",
       "    <tr>\n",
       "      <th>1</th>\n",
       "      <td>33.885796</td>\n",
       "      <td>13.979010</td>\n",
       "      <td>-85.719350</td>\n",
       "      <td>-30.451246</td>\n",
       "      <td>-22.090153</td>\n",
       "      <td>4.564034</td>\n",
       "      <td>31.165920</td>\n",
       "      <td>46.367527</td>\n",
       "      <td>-45.197884</td>\n",
       "      <td>-4.584962</td>\n",
       "      <td>...</td>\n",
       "      <td>-70.876810</td>\n",
       "      <td>-29.125689</td>\n",
       "      <td>-56.661724</td>\n",
       "      <td>68.347630</td>\n",
       "      <td>-14.737951</td>\n",
       "      <td>47.097120</td>\n",
       "      <td>39.724976</td>\n",
       "      <td>132.571990</td>\n",
       "      <td>53.459076</td>\n",
       "      <td>32.982380</td>\n",
       "    </tr>\n",
       "    <tr>\n",
       "      <th>2</th>\n",
       "      <td>16.787160</td>\n",
       "      <td>29.406092</td>\n",
       "      <td>-48.264774</td>\n",
       "      <td>-38.957745</td>\n",
       "      <td>-64.305210</td>\n",
       "      <td>38.198917</td>\n",
       "      <td>5.805443</td>\n",
       "      <td>29.524828</td>\n",
       "      <td>-17.051638</td>\n",
       "      <td>-50.592262</td>\n",
       "      <td>...</td>\n",
       "      <td>-86.319290</td>\n",
       "      <td>-12.413198</td>\n",
       "      <td>-68.498245</td>\n",
       "      <td>68.740620</td>\n",
       "      <td>15.706626</td>\n",
       "      <td>7.832871</td>\n",
       "      <td>24.119993</td>\n",
       "      <td>63.330020</td>\n",
       "      <td>-2.067029</td>\n",
       "      <td>37.960247</td>\n",
       "    </tr>\n",
       "    <tr>\n",
       "      <th>3</th>\n",
       "      <td>35.850006</td>\n",
       "      <td>42.962036</td>\n",
       "      <td>-75.509800</td>\n",
       "      <td>-48.785090</td>\n",
       "      <td>-41.254383</td>\n",
       "      <td>-1.976429</td>\n",
       "      <td>-6.982839</td>\n",
       "      <td>15.469737</td>\n",
       "      <td>-31.976854</td>\n",
       "      <td>-40.112244</td>\n",
       "      <td>...</td>\n",
       "      <td>-71.183754</td>\n",
       "      <td>-40.468624</td>\n",
       "      <td>-63.892910</td>\n",
       "      <td>65.396100</td>\n",
       "      <td>-26.214056</td>\n",
       "      <td>62.399140</td>\n",
       "      <td>22.835870</td>\n",
       "      <td>70.418625</td>\n",
       "      <td>57.963970</td>\n",
       "      <td>40.734090</td>\n",
       "    </tr>\n",
       "    <tr>\n",
       "      <th>4</th>\n",
       "      <td>29.469852</td>\n",
       "      <td>34.854473</td>\n",
       "      <td>-71.579410</td>\n",
       "      <td>-56.628280</td>\n",
       "      <td>-25.895311</td>\n",
       "      <td>10.295429</td>\n",
       "      <td>3.647528</td>\n",
       "      <td>6.661787</td>\n",
       "      <td>-56.010277</td>\n",
       "      <td>-16.745693</td>\n",
       "      <td>...</td>\n",
       "      <td>-95.782936</td>\n",
       "      <td>-47.623943</td>\n",
       "      <td>-66.134270</td>\n",
       "      <td>49.544070</td>\n",
       "      <td>-15.663713</td>\n",
       "      <td>82.616540</td>\n",
       "      <td>51.079155</td>\n",
       "      <td>34.097990</td>\n",
       "      <td>34.966217</td>\n",
       "      <td>50.609196</td>\n",
       "    </tr>\n",
       "    <tr>\n",
       "      <th>...</th>\n",
       "      <td>...</td>\n",
       "      <td>...</td>\n",
       "      <td>...</td>\n",
       "      <td>...</td>\n",
       "      <td>...</td>\n",
       "      <td>...</td>\n",
       "      <td>...</td>\n",
       "      <td>...</td>\n",
       "      <td>...</td>\n",
       "      <td>...</td>\n",
       "      <td>...</td>\n",
       "      <td>...</td>\n",
       "      <td>...</td>\n",
       "      <td>...</td>\n",
       "      <td>...</td>\n",
       "      <td>...</td>\n",
       "      <td>...</td>\n",
       "      <td>...</td>\n",
       "      <td>...</td>\n",
       "      <td>...</td>\n",
       "      <td>...</td>\n",
       "    </tr>\n",
       "    <tr>\n",
       "      <th>3097</th>\n",
       "      <td>40.814007</td>\n",
       "      <td>52.365460</td>\n",
       "      <td>-66.301216</td>\n",
       "      <td>-5.888998</td>\n",
       "      <td>-25.481980</td>\n",
       "      <td>12.881906</td>\n",
       "      <td>-20.610170</td>\n",
       "      <td>29.777680</td>\n",
       "      <td>-70.850876</td>\n",
       "      <td>-23.516727</td>\n",
       "      <td>...</td>\n",
       "      <td>-95.068090</td>\n",
       "      <td>-3.134943</td>\n",
       "      <td>-21.826483</td>\n",
       "      <td>52.187405</td>\n",
       "      <td>4.000219</td>\n",
       "      <td>-8.243583</td>\n",
       "      <td>61.727478</td>\n",
       "      <td>65.101850</td>\n",
       "      <td>13.242323</td>\n",
       "      <td>-11.598402</td>\n",
       "    </tr>\n",
       "    <tr>\n",
       "      <th>3098</th>\n",
       "      <td>79.484070</td>\n",
       "      <td>14.683929</td>\n",
       "      <td>-55.400757</td>\n",
       "      <td>-36.410700</td>\n",
       "      <td>-51.086018</td>\n",
       "      <td>22.655785</td>\n",
       "      <td>23.772587</td>\n",
       "      <td>18.880114</td>\n",
       "      <td>-26.694736</td>\n",
       "      <td>-28.209026</td>\n",
       "      <td>...</td>\n",
       "      <td>-95.518690</td>\n",
       "      <td>-6.570502</td>\n",
       "      <td>-43.297688</td>\n",
       "      <td>36.865738</td>\n",
       "      <td>-26.593466</td>\n",
       "      <td>-11.854276</td>\n",
       "      <td>15.762242</td>\n",
       "      <td>30.530457</td>\n",
       "      <td>-21.491936</td>\n",
       "      <td>6.241181</td>\n",
       "    </tr>\n",
       "    <tr>\n",
       "      <th>3099</th>\n",
       "      <td>34.106094</td>\n",
       "      <td>46.009880</td>\n",
       "      <td>-107.840490</td>\n",
       "      <td>-21.282597</td>\n",
       "      <td>-41.868920</td>\n",
       "      <td>19.889317</td>\n",
       "      <td>27.115509</td>\n",
       "      <td>53.853207</td>\n",
       "      <td>-42.030037</td>\n",
       "      <td>-11.185226</td>\n",
       "      <td>...</td>\n",
       "      <td>-100.019050</td>\n",
       "      <td>-14.799921</td>\n",
       "      <td>-43.575123</td>\n",
       "      <td>80.095276</td>\n",
       "      <td>-46.723160</td>\n",
       "      <td>51.911724</td>\n",
       "      <td>5.770129</td>\n",
       "      <td>22.068426</td>\n",
       "      <td>4.152709</td>\n",
       "      <td>21.077639</td>\n",
       "    </tr>\n",
       "    <tr>\n",
       "      <th>3100</th>\n",
       "      <td>31.388390</td>\n",
       "      <td>6.374999</td>\n",
       "      <td>-67.875260</td>\n",
       "      <td>-34.819275</td>\n",
       "      <td>-34.774790</td>\n",
       "      <td>49.245262</td>\n",
       "      <td>7.877729</td>\n",
       "      <td>72.808310</td>\n",
       "      <td>-33.193504</td>\n",
       "      <td>-47.335880</td>\n",
       "      <td>...</td>\n",
       "      <td>-97.020836</td>\n",
       "      <td>-23.411839</td>\n",
       "      <td>-46.369392</td>\n",
       "      <td>119.432790</td>\n",
       "      <td>-8.986543</td>\n",
       "      <td>49.455700</td>\n",
       "      <td>-7.393787</td>\n",
       "      <td>114.400400</td>\n",
       "      <td>29.348710</td>\n",
       "      <td>32.622130</td>\n",
       "    </tr>\n",
       "    <tr>\n",
       "      <th>3101</th>\n",
       "      <td>20.716272</td>\n",
       "      <td>28.953049</td>\n",
       "      <td>-104.474540</td>\n",
       "      <td>-2.483716</td>\n",
       "      <td>-26.088852</td>\n",
       "      <td>4.904639</td>\n",
       "      <td>-25.765608</td>\n",
       "      <td>39.002650</td>\n",
       "      <td>-47.342323</td>\n",
       "      <td>-52.402450</td>\n",
       "      <td>...</td>\n",
       "      <td>-129.187500</td>\n",
       "      <td>-24.668982</td>\n",
       "      <td>-56.500290</td>\n",
       "      <td>68.752750</td>\n",
       "      <td>-21.575153</td>\n",
       "      <td>50.312060</td>\n",
       "      <td>12.750194</td>\n",
       "      <td>90.698410</td>\n",
       "      <td>39.359882</td>\n",
       "      <td>22.483805</td>\n",
       "    </tr>\n",
       "  </tbody>\n",
       "</table>\n",
       "<p>3102 rows × 512 columns</p>\n",
       "</div>"
      ],
      "text/plain": [
       "              0          1           2          3          4          5  \\\n",
       "0     37.146960  -0.718577  -73.298584 -67.357710 -53.100407  21.316463   \n",
       "1     33.885796  13.979010  -85.719350 -30.451246 -22.090153   4.564034   \n",
       "2     16.787160  29.406092  -48.264774 -38.957745 -64.305210  38.198917   \n",
       "3     35.850006  42.962036  -75.509800 -48.785090 -41.254383  -1.976429   \n",
       "4     29.469852  34.854473  -71.579410 -56.628280 -25.895311  10.295429   \n",
       "...         ...        ...         ...        ...        ...        ...   \n",
       "3097  40.814007  52.365460  -66.301216  -5.888998 -25.481980  12.881906   \n",
       "3098  79.484070  14.683929  -55.400757 -36.410700 -51.086018  22.655785   \n",
       "3099  34.106094  46.009880 -107.840490 -21.282597 -41.868920  19.889317   \n",
       "3100  31.388390   6.374999  -67.875260 -34.819275 -34.774790  49.245262   \n",
       "3101  20.716272  28.953049 -104.474540  -2.483716 -26.088852   4.904639   \n",
       "\n",
       "              6          7          8          9  ...         502        503  \\\n",
       "0     41.753353  32.956703   0.400308  -6.732258  ...  -42.584038 -44.468742   \n",
       "1     31.165920  46.367527 -45.197884  -4.584962  ...  -70.876810 -29.125689   \n",
       "2      5.805443  29.524828 -17.051638 -50.592262  ...  -86.319290 -12.413198   \n",
       "3     -6.982839  15.469737 -31.976854 -40.112244  ...  -71.183754 -40.468624   \n",
       "4      3.647528   6.661787 -56.010277 -16.745693  ...  -95.782936 -47.623943   \n",
       "...         ...        ...        ...        ...  ...         ...        ...   \n",
       "3097 -20.610170  29.777680 -70.850876 -23.516727  ...  -95.068090  -3.134943   \n",
       "3098  23.772587  18.880114 -26.694736 -28.209026  ...  -95.518690  -6.570502   \n",
       "3099  27.115509  53.853207 -42.030037 -11.185226  ... -100.019050 -14.799921   \n",
       "3100   7.877729  72.808310 -33.193504 -47.335880  ...  -97.020836 -23.411839   \n",
       "3101 -25.765608  39.002650 -47.342323 -52.402450  ... -129.187500 -24.668982   \n",
       "\n",
       "            504         505        506        507        508         509  \\\n",
       "0    -58.364820   53.291164   4.001782  54.231130  65.188090   84.791145   \n",
       "1    -56.661724   68.347630 -14.737951  47.097120  39.724976  132.571990   \n",
       "2    -68.498245   68.740620  15.706626   7.832871  24.119993   63.330020   \n",
       "3    -63.892910   65.396100 -26.214056  62.399140  22.835870   70.418625   \n",
       "4    -66.134270   49.544070 -15.663713  82.616540  51.079155   34.097990   \n",
       "...         ...         ...        ...        ...        ...         ...   \n",
       "3097 -21.826483   52.187405   4.000219  -8.243583  61.727478   65.101850   \n",
       "3098 -43.297688   36.865738 -26.593466 -11.854276  15.762242   30.530457   \n",
       "3099 -43.575123   80.095276 -46.723160  51.911724   5.770129   22.068426   \n",
       "3100 -46.369392  119.432790  -8.986543  49.455700  -7.393787  114.400400   \n",
       "3101 -56.500290   68.752750 -21.575153  50.312060  12.750194   90.698410   \n",
       "\n",
       "            510        511  \n",
       "0     41.844980  53.529175  \n",
       "1     53.459076  32.982380  \n",
       "2     -2.067029  37.960247  \n",
       "3     57.963970  40.734090  \n",
       "4     34.966217  50.609196  \n",
       "...         ...        ...  \n",
       "3097  13.242323 -11.598402  \n",
       "3098 -21.491936   6.241181  \n",
       "3099   4.152709  21.077639  \n",
       "3100  29.348710  32.622130  \n",
       "3101  39.359882  22.483805  \n",
       "\n",
       "[3102 rows x 512 columns]"
      ]
     },
     "execution_count": 2,
     "metadata": {},
     "output_type": "execute_result"
    }
   ],
   "source": [
    "# Import Preprocessed data\n",
    "data = pd.read_csv(\"../data/preprocess_data.csv\")\n",
    "\n",
    "# Import Bert Features\n",
    "bert_features = pd.read_csv(\"../data/robertaFeatures.csv\")\n",
    "bert_features"
   ]
  },
  {
   "cell_type": "code",
   "execution_count": 3,
   "id": "f01d4099",
   "metadata": {},
   "outputs": [],
   "source": [
    "# Define X and y\n",
    "X = bert_features\n",
    "y = data['genre']\n",
    "\n",
    "# Split data into Train and test\n",
    "X_train, X_test, y_train, y_test = train_test_split(X, y, test_size=0.3, random_state=1)"
   ]
  },
  {
   "cell_type": "markdown",
   "id": "96c38eab",
   "metadata": {},
   "source": [
    "# Classifiers"
   ]
  },
  {
   "cell_type": "code",
   "execution_count": 4,
   "id": "b4ebc6bc",
   "metadata": {},
   "outputs": [],
   "source": [
    "# Create a empty dataframe for results\n",
    "finalEval = pd.DataFrame(columns=['Name', 'Accuracy', 'Precision', 'Recall', 'F1_score', 'Time_Taken'])"
   ]
  },
  {
   "cell_type": "markdown",
   "id": "1c20072e",
   "metadata": {},
   "source": [
    "### Random Forest Classifier"
   ]
  },
  {
   "cell_type": "code",
   "execution_count": 5,
   "id": "77994466",
   "metadata": {},
   "outputs": [
    {
     "name": "stdout",
     "output_type": "stream",
     "text": [
      "Fitting 3 folds for each of 288 candidates, totalling 864 fits\n",
      "{'bootstrap': True, 'max_depth': 90, 'max_features': 3, 'min_samples_leaf': 3, 'min_samples_split': 8, 'n_estimators': 1000}\n"
     ]
    }
   ],
   "source": [
    "# Create the parameter grid based on the results of random search \n",
    "param_grid_rfc = {\n",
    "    'bootstrap': [True],\n",
    "    'max_depth': [80, 90, 100, 110],\n",
    "    'max_features': [2, 3],\n",
    "    'min_samples_leaf': [3, 4, 5],\n",
    "    'min_samples_split': [8, 10, 12],\n",
    "    'n_estimators': [100, 200, 300, 1000]\n",
    "}\n",
    "\n",
    "# Create a base model\n",
    "rf = RandomForestClassifier()\n",
    "\n",
    "# Instantiate the grid search model\n",
    "gridSearchRF = GridSearchCV(estimator = rf,\n",
    "                           param_grid = param_grid_rfc, \n",
    "                           cv = 3,\n",
    "                           n_jobs = -1,\n",
    "                           verbose = 2)\n",
    "\n",
    "# start time\n",
    "begin = time.time()\n",
    "\n",
    "# Fit the grid search to the data\n",
    "gridSearchRF.fit(X_train, y_train)\n",
    "\n",
    "# Best parameters from the grid\n",
    "print(gridSearchRF.best_params_)\n",
    "\n",
    "# Best Grid Model\n",
    "bestGridModelRF = gridSearchRF.best_estimator_\n",
    "\n",
    "# Predict the response for test dataset\n",
    "y_pred_RF = bestGridModelRF.predict(X_test)\n",
    "\n",
    "# end time\n",
    "end = time.time()\n",
    "\n",
    "# time taken\n",
    "timeTakenRF = end-begin"
   ]
  },
  {
   "cell_type": "code",
   "execution_count": 6,
   "id": "a22a9e30",
   "metadata": {},
   "outputs": [
    {
     "name": "stdout",
     "output_type": "stream",
     "text": [
      "              precision    recall  f1-score   support\n",
      "\n",
      "       crime       0.88      0.07      0.12       106\n",
      "     fantasy       0.62      0.81      0.70       193\n",
      "     history       0.73      0.66      0.69       139\n",
      "      horror       0.97      0.22      0.36       140\n",
      "     science       0.81      0.64      0.72       142\n",
      "    thriller       0.48      0.91      0.63       211\n",
      "\n",
      "    accuracy                           0.61       931\n",
      "   macro avg       0.75      0.55      0.54       931\n",
      "weighted avg       0.72      0.61      0.57       931\n",
      "\n"
     ]
    }
   ],
   "source": [
    "# Print Classification Report\n",
    "print(classification_report(y_test, y_pred_RF))"
   ]
  },
  {
   "cell_type": "code",
   "execution_count": 7,
   "id": "58a6fbcf",
   "metadata": {},
   "outputs": [],
   "source": [
    "# Create empty metrics list\n",
    "metricsListRF = []\n",
    "\n",
    "# Insert results to the metrics list\n",
    "metricsListRF.append('Random Forest')\n",
    "metricsListRF.append(accuracy_score(y_pred_RF, y_test))\n",
    "metricsListRF.append(precision_score(y_pred_RF, y_test, average = 'macro'))\n",
    "metricsListRF.append(recall_score(y_pred_RF, y_test, average = 'macro'))\n",
    "metricsListRF.append(f1_score(y_pred_RF, y_test, average = 'macro'))\n",
    "metricsListRF.append(timeTakenRF)\n",
    "\n",
    "# Append the results to the dataframe\n",
    "finalEval.loc[len(finalEval)] = metricsListRF"
   ]
  },
  {
   "cell_type": "markdown",
   "id": "3185d601",
   "metadata": {},
   "source": [
    "### MLP Classifier"
   ]
  },
  {
   "cell_type": "code",
   "execution_count": 8,
   "id": "3a9c4d49",
   "metadata": {},
   "outputs": [
    {
     "name": "stdout",
     "output_type": "stream",
     "text": [
      "{'activation': 'tanh', 'alpha': 0.05, 'hidden_layer_sizes': (100,), 'learning_rate': 'adaptive', 'solver': 'sgd'}\n"
     ]
    },
    {
     "name": "stderr",
     "output_type": "stream",
     "text": [
      "c:\\users\\anand\\appdata\\local\\programs\\python\\python39\\lib\\site-packages\\sklearn\\neural_network\\_multilayer_perceptron.py:692: ConvergenceWarning: Stochastic Optimizer: Maximum iterations (300) reached and the optimization hasn't converged yet.\n",
      "  warnings.warn(\n"
     ]
    }
   ],
   "source": [
    "param_grid_mlp = {\n",
    "    'hidden_layer_sizes': [(50,50,50), (50,100,50), (100,)],\n",
    "    'activation': ['tanh', 'relu'],\n",
    "    'solver': ['sgd', 'adam'],\n",
    "    'alpha': [0.0001, 0.05],\n",
    "    'learning_rate': ['constant','adaptive'],\n",
    "}\n",
    "\n",
    "# Create the base model\n",
    "mlpc = MLPClassifier(random_state=1, max_iter=300)\n",
    "\n",
    "# Grid Search\n",
    "gridSearchMLP = GridSearchCV(estimator = mlpc,\n",
    "                             param_grid = param_grid_mlp,\n",
    "                             n_jobs=-1,\n",
    "                             cv=5)\n",
    "\n",
    "# start time\n",
    "begin = time.time()\n",
    "\n",
    "# Fit the grid search to the data\n",
    "gridSearchMLP.fit(X_train, y_train)\n",
    "\n",
    "# Best parameters from the grid\n",
    "print(gridSearchMLP.best_params_)\n",
    "\n",
    "# Best Grid Model\n",
    "bestGridModelMLP = gridSearchMLP.best_estimator_\n",
    "\n",
    "# Predict the response for test dataset\n",
    "y_pred_MLP = bestGridModelMLP.predict(X_test)\n",
    "\n",
    "# end time\n",
    "end = time.time()\n",
    "\n",
    "# time taken\n",
    "timeTakenMLP = end-begin"
   ]
  },
  {
   "cell_type": "code",
   "execution_count": 9,
   "id": "24af4da8",
   "metadata": {},
   "outputs": [
    {
     "name": "stdout",
     "output_type": "stream",
     "text": [
      "              precision    recall  f1-score   support\n",
      "\n",
      "       crime       0.57      0.42      0.49       106\n",
      "     fantasy       0.69      0.71      0.70       193\n",
      "     history       0.67      0.76      0.71       139\n",
      "      horror       0.72      0.63      0.67       140\n",
      "     science       0.74      0.74      0.74       142\n",
      "    thriller       0.65      0.72      0.68       211\n",
      "\n",
      "    accuracy                           0.68       931\n",
      "   macro avg       0.67      0.66      0.66       931\n",
      "weighted avg       0.68      0.68      0.67       931\n",
      "\n"
     ]
    }
   ],
   "source": [
    "# Print Classification Report\n",
    "print(classification_report(y_test, y_pred_MLP))"
   ]
  },
  {
   "cell_type": "code",
   "execution_count": 10,
   "id": "72364f23",
   "metadata": {},
   "outputs": [],
   "source": [
    "# Create empty metrics list\n",
    "metricsListMLP = []\n",
    "\n",
    "# Insert results to the metrics list\n",
    "metricsListMLP.append('MLP Classifier')\n",
    "metricsListMLP.append(accuracy_score(y_pred_MLP, y_test))\n",
    "metricsListMLP.append(precision_score(y_pred_MLP, y_test, average = 'macro'))\n",
    "metricsListMLP.append(recall_score(y_pred_MLP, y_test, average = 'macro'))\n",
    "metricsListMLP.append(f1_score(y_pred_MLP, y_test, average = 'macro'))\n",
    "metricsListMLP.append(timeTakenMLP)\n",
    "\n",
    "# Append the results to the dataframe\n",
    "finalEval.loc[len(finalEval)] = metricsListMLP"
   ]
  },
  {
   "cell_type": "markdown",
   "id": "768b3ef9",
   "metadata": {},
   "source": [
    "### Support Vector Classifier"
   ]
  },
  {
   "cell_type": "code",
   "execution_count": 11,
   "id": "c7b7989b",
   "metadata": {},
   "outputs": [
    {
     "name": "stdout",
     "output_type": "stream",
     "text": [
      "{'C': 1, 'gamma': 'scale', 'kernel': 'poly'}\n"
     ]
    }
   ],
   "source": [
    "# defining parameter range\n",
    "param_grid_svc = {'C': [0.1, 1, 10, 100, 1000],\n",
    "                  'kernel': ['linear', 'rbf', 'poly'],\n",
    "                  'gamma': ['auto','scale']}\n",
    "\n",
    "# Create sv classifer object\n",
    "svc = SVC()\n",
    "  \n",
    "gridSearchSVC = GridSearchCV(estimator = svc,\n",
    "                    param_grid = param_grid_svc,\n",
    "                    refit = True,\n",
    "                    cv = 10)\n",
    "\n",
    "# start time\n",
    "begin = time.time()\n",
    "\n",
    "# Fit the grid search to the data\n",
    "gridSearchSVC.fit(X_train, y_train)\n",
    "\n",
    "# Best parameters from the grid\n",
    "print(gridSearchSVC.best_params_)\n",
    "\n",
    "# Best Grid Model\n",
    "bestGridModelSVC = gridSearchSVC.best_estimator_\n",
    "\n",
    "# Predict the response for test dataset\n",
    "y_pred_SVC = bestGridModelSVC.predict(X_test)\n",
    "\n",
    "# end time\n",
    "end = time.time()\n",
    "\n",
    "# time taken\n",
    "timeTakenSVC = end-begin"
   ]
  },
  {
   "cell_type": "code",
   "execution_count": 12,
   "id": "b8c0be0d",
   "metadata": {
    "scrolled": true
   },
   "outputs": [
    {
     "name": "stdout",
     "output_type": "stream",
     "text": [
      "              precision    recall  f1-score   support\n",
      "\n",
      "       crime       0.66      0.43      0.52       106\n",
      "     fantasy       0.71      0.77      0.74       193\n",
      "     history       0.71      0.79      0.75       139\n",
      "      horror       0.75      0.56      0.64       140\n",
      "     science       0.78      0.73      0.75       142\n",
      "    thriller       0.63      0.78      0.70       211\n",
      "\n",
      "    accuracy                           0.70       931\n",
      "   macro avg       0.71      0.68      0.68       931\n",
      "weighted avg       0.70      0.70      0.69       931\n",
      "\n"
     ]
    }
   ],
   "source": [
    "# Print Classification Report\n",
    "print(classification_report(y_test, y_pred_SVC))"
   ]
  },
  {
   "cell_type": "code",
   "execution_count": 13,
   "id": "989e89e1",
   "metadata": {},
   "outputs": [],
   "source": [
    "# Create empty metrics list\n",
    "metricsListSVC = []\n",
    "\n",
    "# Insert results to the metrics list\n",
    "metricsListSVC.append('Support Vector')\n",
    "metricsListSVC.append(accuracy_score(y_pred_SVC, y_test))\n",
    "metricsListSVC.append(precision_score(y_pred_SVC, y_test, average = 'macro'))\n",
    "metricsListSVC.append(recall_score(y_pred_SVC, y_test, average = 'macro'))\n",
    "metricsListSVC.append(f1_score(y_pred_SVC, y_test, average = 'macro'))\n",
    "metricsListSVC.append(timeTakenSVC)\n",
    "\n",
    "# Append the results to the dataframe\n",
    "finalEval.loc[len(finalEval)] = metricsListSVC"
   ]
  },
  {
   "cell_type": "markdown",
   "id": "2808b898",
   "metadata": {},
   "source": [
    "### Adaboost Classifier"
   ]
  },
  {
   "cell_type": "code",
   "execution_count": 14,
   "id": "1f46e53c",
   "metadata": {},
   "outputs": [],
   "source": [
    "# Create svc object\n",
    "svc = SVC(probability=True, kernel='rbf')\n",
    "\n",
    "# Create adaboost classifer object\n",
    "abc = AdaBoostClassifier(n_estimators=100, base_estimator= svc, learning_rate= 0.01)\n",
    "\n",
    "# start time\n",
    "begin = time.time()\n",
    "\n",
    "# Train Adaboost Classifer\n",
    "modelABC = abc.fit(X_train, y_train)\n",
    "\n",
    "#Predict the response for test dataset\n",
    "y_pred_abc = modelABC.predict(X_test)\n",
    "\n",
    "# end time\n",
    "end = time.time()\n",
    "\n",
    "# time taken\n",
    "timeTakenABC = end-begin"
   ]
  },
  {
   "cell_type": "code",
   "execution_count": 15,
   "id": "9ff948e3",
   "metadata": {},
   "outputs": [
    {
     "name": "stdout",
     "output_type": "stream",
     "text": [
      "              precision    recall  f1-score   support\n",
      "\n",
      "       crime       0.50      0.57      0.53       106\n",
      "     fantasy       0.79      0.68      0.73       193\n",
      "     history       0.71      0.75      0.73       139\n",
      "      horror       0.66      0.64      0.65       140\n",
      "     science       0.76      0.77      0.77       142\n",
      "    thriller       0.66      0.68      0.67       211\n",
      "\n",
      "    accuracy                           0.69       931\n",
      "   macro avg       0.68      0.68      0.68       931\n",
      "weighted avg       0.69      0.69      0.69       931\n",
      "\n"
     ]
    }
   ],
   "source": [
    "# Print Classification Report\n",
    "print(classification_report(y_test, y_pred_abc))"
   ]
  },
  {
   "cell_type": "code",
   "execution_count": 16,
   "id": "3ba12bf5",
   "metadata": {},
   "outputs": [],
   "source": [
    "# Create empty metrics list\n",
    "metricsListABC = []\n",
    "\n",
    "# Insert results to the metrics list\n",
    "metricsListABC.append('Adaboost')\n",
    "metricsListABC.append(accuracy_score(y_pred_abc, y_test))\n",
    "metricsListABC.append(precision_score(y_pred_abc, y_test, average = 'macro'))\n",
    "metricsListABC.append(recall_score(y_pred_abc, y_test, average = 'macro'))\n",
    "metricsListABC.append(f1_score(y_pred_abc, y_test, average = 'macro'))\n",
    "metricsListABC.append(timeTakenABC)\n",
    "\n",
    "# Append the results to the dataframe\n",
    "finalEval.loc[len(finalEval)] = metricsListABC"
   ]
  },
  {
   "cell_type": "markdown",
   "id": "82cb40d7",
   "metadata": {},
   "source": [
    "### SGD Classifier"
   ]
  },
  {
   "cell_type": "code",
   "execution_count": 17,
   "id": "151a0ee1",
   "metadata": {},
   "outputs": [],
   "source": [
    "# Create sgd classifier object\n",
    "sgdc = SGDClassifier(max_iter=1000, tol=0.01) \n",
    "\n",
    "# start time\n",
    "begin = time.time()\n",
    "\n",
    "# Train SGD Classifier\n",
    "modelSGD = sgdc.fit(X_train, y_train)\n",
    "\n",
    "#Predict the response for test dataset\n",
    "y_pred_sgd = modelSGD.predict(X_test)\n",
    "\n",
    "# end time\n",
    "end = time.time()\n",
    "\n",
    "# time taken\n",
    "timeTakenSGD = end-begin"
   ]
  },
  {
   "cell_type": "code",
   "execution_count": 18,
   "id": "c362b223",
   "metadata": {},
   "outputs": [
    {
     "name": "stdout",
     "output_type": "stream",
     "text": [
      "              precision    recall  f1-score   support\n",
      "\n",
      "       crime       0.35      0.89      0.50       106\n",
      "     fantasy       0.64      0.68      0.66       193\n",
      "     history       0.59      0.83      0.69       139\n",
      "      horror       0.79      0.44      0.57       140\n",
      "     science       0.75      0.61      0.67       142\n",
      "    thriller       0.88      0.28      0.42       211\n",
      "\n",
      "    accuracy                           0.59       931\n",
      "   macro avg       0.67      0.62      0.59       931\n",
      "weighted avg       0.69      0.59      0.58       931\n",
      "\n"
     ]
    }
   ],
   "source": [
    "# Print Classification Report\n",
    "print(classification_report(y_test, y_pred_sgd))"
   ]
  },
  {
   "cell_type": "code",
   "execution_count": 19,
   "id": "2870813c",
   "metadata": {},
   "outputs": [],
   "source": [
    "# Create empty metrics list\n",
    "metricsListSGD = []\n",
    "\n",
    "# Insert results to the metrics list\n",
    "metricsListSGD.append('SGD Classifier')\n",
    "metricsListSGD.append(accuracy_score(y_pred_sgd, y_test))\n",
    "metricsListSGD.append(precision_score(y_pred_sgd, y_test, average = 'macro'))\n",
    "metricsListSGD.append(recall_score(y_pred_sgd, y_test, average = 'macro'))\n",
    "metricsListSGD.append(f1_score(y_pred_sgd, y_test, average = 'macro'))\n",
    "metricsListSGD.append(timeTakenABC)\n",
    "\n",
    "# Append the results to the dataframe\n",
    "finalEval.loc[len(finalEval)] = metricsListSGD"
   ]
  },
  {
   "cell_type": "markdown",
   "id": "20109fa3",
   "metadata": {},
   "source": [
    "### XGBoost Classifier"
   ]
  },
  {
   "cell_type": "code",
   "execution_count": 20,
   "id": "e1e877f7",
   "metadata": {},
   "outputs": [
    {
     "name": "stdout",
     "output_type": "stream",
     "text": [
      "{'colsample_bytree': 0.1, 'learning_rate': 0.3, 'max_depth': 9}\n"
     ]
    }
   ],
   "source": [
    "# create label encoder for XG Boost\n",
    "le = LabelEncoder()\n",
    "y_train_le = le.fit_transform(y_train)\n",
    "y_test_le = le.fit_transform(y_test)\n",
    "\n",
    "\n",
    "# defining parameter range\n",
    "param_grid_xgb = {\n",
    "    \"colsample_bytree\": [0.1, 0.3, 0.5],\n",
    "    \"learning_rate\": [0.1, 0.3, 0.5],\n",
    "    \"max_depth\": [7, 9]\n",
    "}\n",
    "\n",
    "# Create xgb classifer object\n",
    "xgbc = XGBClassifier()\n",
    "  \n",
    "gridSearchXGB = GridSearchCV(estimator=xgbc,\n",
    "                             param_grid=param_grid_xgb,\n",
    "                             refit =True,\n",
    "                             cv=5,\n",
    "                             n_jobs=1,\n",
    "                             return_train_score=True)\n",
    "\n",
    "# start time\n",
    "begin = time.time()\n",
    "\n",
    "# Fit the grid search to the data\n",
    "gridSearchXGB.fit(X_train, y_train_le)\n",
    "\n",
    "# Best parameters from the grid\n",
    "print(gridSearchXGB.best_params_)\n",
    "\n",
    "# Best Grid Model\n",
    "bestGridModelXGB = gridSearchXGB.best_estimator_\n",
    "\n",
    "# Predict the response for test dataset\n",
    "y_pred_XGB = bestGridModelXGB.predict(X_test)\n",
    "\n",
    "# end time\n",
    "end = time.time()\n",
    "\n",
    "# time taken\n",
    "timeTakenXGB = end-begin"
   ]
  },
  {
   "cell_type": "code",
   "execution_count": 21,
   "id": "6b89c0d4",
   "metadata": {},
   "outputs": [
    {
     "name": "stdout",
     "output_type": "stream",
     "text": [
      "              precision    recall  f1-score   support\n",
      "\n",
      "           0       0.65      0.47      0.55       106\n",
      "           1       0.67      0.77      0.71       193\n",
      "           2       0.72      0.76      0.74       139\n",
      "           3       0.78      0.57      0.66       140\n",
      "           4       0.80      0.68      0.74       142\n",
      "           5       0.65      0.81      0.72       211\n",
      "\n",
      "    accuracy                           0.70       931\n",
      "   macro avg       0.71      0.68      0.69       931\n",
      "weighted avg       0.71      0.70      0.70       931\n",
      "\n"
     ]
    }
   ],
   "source": [
    "# Print Classification Report\n",
    "print(classification_report(y_test_le, y_pred_XGB))"
   ]
  },
  {
   "cell_type": "code",
   "execution_count": 46,
   "id": "9322385c",
   "metadata": {},
   "outputs": [
    {
     "data": {
      "text/plain": [
       "'\\nHere the genres are LABEL ENCODED.\\n\\nGenre    Class\\ncrime    0\\nfantasy  1\\nhistory  2\\nhorror   3\\nscience  4\\nthriller 5\\n'"
      ]
     },
     "execution_count": 46,
     "metadata": {},
     "output_type": "execute_result"
    }
   ],
   "source": [
    "\"\"\"\n",
    "Here the genres are LABEL ENCODED.\n",
    "\n",
    "Genre    Class\n",
    "crime    0\n",
    "fantasy  1\n",
    "history  2\n",
    "horror   3\n",
    "science  4\n",
    "thriller 5\n",
    "\"\"\""
   ]
  },
  {
   "cell_type": "code",
   "execution_count": 22,
   "id": "56070461",
   "metadata": {},
   "outputs": [],
   "source": [
    "# Create empty metrics list\n",
    "metricsListXGB = []\n",
    "\n",
    "# Insert results to the metrics list\n",
    "metricsListXGB.append('XG Boost')\n",
    "metricsListXGB.append(accuracy_score(y_pred_XGB, y_test_le))\n",
    "metricsListXGB.append(precision_score(y_pred_XGB, y_test_le, average = 'macro'))\n",
    "metricsListXGB.append(recall_score(y_pred_XGB, y_test_le, average = 'macro'))\n",
    "metricsListXGB.append(f1_score(y_pred_XGB, y_test_le, average = 'macro'))\n",
    "metricsListXGB.append(timeTakenXGB)\n",
    "\n",
    "# Append the results to the dataframe\n",
    "finalEval.loc[len(finalEval)] = metricsListXGB"
   ]
  },
  {
   "cell_type": "markdown",
   "id": "7fea660b",
   "metadata": {},
   "source": [
    "## Export final Result"
   ]
  },
  {
   "cell_type": "code",
   "execution_count": 24,
   "id": "eada8221",
   "metadata": {},
   "outputs": [],
   "source": [
    "# Export data\n",
    "finalEval.to_csv( \"../data/finalEvaluation.csv\", index=False, encoding='utf-8-sig')"
   ]
  },
  {
   "cell_type": "markdown",
   "id": "20126454",
   "metadata": {},
   "source": [
    "## Comparison of all Classifiers"
   ]
  },
  {
   "cell_type": "code",
   "execution_count": 25,
   "id": "3be3022b",
   "metadata": {},
   "outputs": [
    {
     "name": "stdout",
     "output_type": "stream",
     "text": [
      "             Name  Accuracy  Precision    Recall  F1_score  Time_Taken\n",
      "0   Random Forest  0.611171   0.551404  0.747589  0.537213  232.093345\n",
      "1  MLP Classifier  0.677766   0.662236  0.673444  0.664827  363.983815\n",
      "2  Support Vector  0.699248   0.676973  0.707085  0.683835  167.606161\n",
      "3        Adaboost  0.685285   0.681371  0.679534  0.679333  592.513233\n",
      "4  SGD Classifier  0.589689   0.622539  0.667618  0.586712  592.513233\n",
      "5        XG Boost  0.699248   0.676555  0.712248  0.686355  541.909317\n"
     ]
    }
   ],
   "source": [
    "# Print all classifier results\n",
    "print(finalEval)"
   ]
  },
  {
   "cell_type": "code",
   "execution_count": 41,
   "id": "0e9bf342",
   "metadata": {},
   "outputs": [
    {
     "data": {
      "text/plain": [
       "<AxesSubplot:xlabel='Name', ylabel='Accuracy'>"
      ]
     },
     "execution_count": 41,
     "metadata": {},
     "output_type": "execute_result"
    },
    {
     "data": {
      "image/png": "[encoded data removed]",
      "text/plain": [
       "<Figure size 1080x576 with 1 Axes>"
      ]
     },
     "metadata": {
      "needs_background": "light"
     },
     "output_type": "display_data"
    }
   ],
   "source": [
    "# Sort data by Accuracy\n",
    "finalEval.sort_values(by = 'Accuracy', ascending = False, inplace = True)\n",
    "\n",
    "# Plot data\n",
    "plt.figure(figsize=(15,8))\n",
    "sns.lineplot(data=finalEval, x=\"Name\", y=\"Accuracy\")"
   ]
  },
  {
   "cell_type": "code",
   "execution_count": 42,
   "id": "5cbf73d0",
   "metadata": {},
   "outputs": [
    {
     "data": {
      "text/plain": [
       "<AxesSubplot:xlabel='Name', ylabel='Time_Taken'>"
      ]
     },
     "execution_count": 42,
     "metadata": {},
     "output_type": "execute_result"
    },
    {
     "data": {
      "image/png": "[encoded data removed]",
      "text/plain": [
       "<Figure size 1080x576 with 1 Axes>"
      ]
     },
     "metadata": {
      "needs_background": "light"
     },
     "output_type": "display_data"
    }
   ],
   "source": [
    "# Sort data by time taken\n",
    "finalEval.sort_values(by = 'Time_Taken', ascending = False, inplace = True)\n",
    "\n",
    "# Plot data\n",
    "plt.figure(figsize=(15,8))\n",
    "sns.lineplot(data=finalEval, x=\"Name\", y=\"Time_Taken\")"
   ]
  },
  {
   "cell_type": "markdown",
   "id": "f22aa161",
   "metadata": {},
   "source": [
    "## Confusion Matrix for our best classifier"
   ]
  },
  {
   "cell_type": "code",
   "execution_count": 47,
   "id": "22de980a",
   "metadata": {},
   "outputs": [
    {
     "data": {
      "text/plain": [
       "<sklearn.metrics._plot.confusion_matrix.ConfusionMatrixDisplay at 0x2390f2ecd60>"
      ]
     },
     "execution_count": 47,
     "metadata": {},
     "output_type": "execute_result"
    },
    {
     "data": {
      "image/png": "[encoded data removed]",
      "text/plain": [
       "<Figure size 720x720 with 2 Axes>"
      ]
     },
     "metadata": {
      "needs_background": "light"
     },
     "output_type": "display_data"
    }
   ],
   "source": [
    "plt.figure(figsize=(10,10))\n",
    "ax= plt.subplot()\n",
    "cm = confusion_matrix(y_test_le, y_pred_XGB)\n",
    "disp = ConfusionMatrixDisplay(confusion_matrix=cm, display_labels=data.genre.unique())\n",
    "disp.plot(ax=ax)"
   ]
  },
  {
   "cell_type": "markdown",
   "id": "1eecf1b8",
   "metadata": {},
   "source": [
    "We observe here that the model fairly perfoms well. Except many fantasy genre being classified as thriller, the performance of the model seems well."
   ]
  },
  {
   "cell_type": "markdown",
   "id": "8dbb1861",
   "metadata": {},
   "source": [
    "# Conclusion"
   ]
  },
  {
   "cell_type": "markdown",
   "id": "a4fdb6fe",
   "metadata": {},
   "source": [
    "From the final evaluation dataframe we can notice that both XG Boost Classifier and support vector classifier gives the best accuracy of 69.9%. While other classifier such as MLP and Adaboost are also very close with around 68% of accuracy.\n",
    "\n",
    "It is also our point of interest that though both SVC and XG Boost give us the best and same accuracy, but XGB consumes almost thrice the time as SVC.\n",
    "\n",
    "So, I would conclude that based on above observation, SVC in this case is the most efficient classifier."
   ]
  },
  {
   "cell_type": "code",
   "execution_count": null,
   "id": "67c7b452",
   "metadata": {},
   "outputs": [],
   "source": []
  }
 ],
 "metadata": {
  "kernelspec": {
   "display_name": "Python 3 (ipykernel)",
   "language": "python",
   "name": "python3"
  },
  "language_info": {
   "codemirror_mode": {
    "name": "ipython",
    "version": 3
   },
   "file_extension": ".py",
   "mimetype": "text/x-python",
   "name": "python",
   "nbconvert_exporter": "python",
   "pygments_lexer": "ipython3",
   "version": "3.9.12"
  }
 },
 "nbformat": 4,
 "nbformat_minor": 5
}
