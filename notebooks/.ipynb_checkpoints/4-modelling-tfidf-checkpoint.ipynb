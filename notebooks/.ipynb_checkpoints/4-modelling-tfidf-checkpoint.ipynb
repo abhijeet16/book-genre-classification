{
 "cells": [
  {
   "cell_type": "markdown",
   "id": "34de511e",
   "metadata": {},
   "source": [
    "# Libraries"
   ]
  },
  {
   "cell_type": "code",
   "execution_count": 4,
   "id": "b58ee832",
   "metadata": {},
   "outputs": [],
   "source": [
    "import numpy as np\n",
    "import pandas as pd\n",
    "\n",
    "from sklearn.feature_extraction.text import TfidfVectorizer\n",
    "from sklearn.model_selection import train_test_split\n",
    "\n",
    "from sklearn.model_selection import cross_val_score\n",
    "from sklearn.metrics import f1_score, precision_score, recall_score, accuracy_score\n",
    "from sklearn.metrics import confusion_matrix, ConfusionMatrixDisplay\n",
    "from sklearn.metrics import classification_report\n",
    "\n",
    "from sklearn.neural_network import MLPClassifier\n",
    "from sklearn.ensemble import RandomForestClassifier\n",
    "from sklearn.svm import SVC\n",
    "from sklearn.ensemble import AdaBoostClassifier\n",
    "from sklearn.linear_model import SGDClassifier\n",
    "from xgboost import XGBClassifier\n",
    "\n",
    "from sklearn.preprocessing import LabelEncoder\n",
    "from sklearn.model_selection import GridSearchCV\n",
    "\n",
    "import matplotlib.pyplot as plt\n",
    "import seaborn as sns\n",
    "\n",
    "import time"
   ]
  },
  {
   "cell_type": "markdown",
   "id": "7a9d7b4b",
   "metadata": {},
   "source": [
    "# Import data"
   ]
  },
  {
   "cell_type": "code",
   "execution_count": 5,
   "id": "545c3f10",
   "metadata": {},
   "outputs": [],
   "source": [
    "# Import Preprocessed data\n",
    "data = pd.read_csv(\"../data/preprocess_data.csv\")"
   ]
  },
  {
   "cell_type": "markdown",
   "id": "61acbef3",
   "metadata": {},
   "source": [
    "## Generate TFIDF "
   ]
  },
  {
   "cell_type": "code",
   "execution_count": 6,
   "id": "b00ba58a",
   "metadata": {},
   "outputs": [],
   "source": [
    "vectorizer = TfidfVectorizer()\n",
    "\n",
    "# Transform features\n",
    "X = data.title_summary\n",
    "# create target\n",
    "y = data.genre\n",
    "\n",
    "X_tfidf = vectorizer.fit_transform(X)"
   ]
  },
  {
   "cell_type": "code",
   "execution_count": 9,
   "id": "a1741ecf",
   "metadata": {},
   "outputs": [
    {
     "data": {
      "text/plain": [
       "(3102, 42306)"
      ]
     },
     "execution_count": 9,
     "metadata": {},
     "output_type": "execute_result"
    }
   ],
   "source": [
    "X_tfidf.shape"
   ]
  },
  {
   "cell_type": "markdown",
   "id": "d0b8c75e",
   "metadata": {},
   "source": [
    "## Split Data"
   ]
  },
  {
   "cell_type": "code",
   "execution_count": 12,
   "id": "3ef5a253",
   "metadata": {},
   "outputs": [],
   "source": [
    "# split the dataset for training and testing\n",
    "X_train, X_test, y_train, y_test = train_test_split(\n",
    "    X_tfidf, y, test_size=0.3, random_state=42\n",
    ")"
   ]
  },
  {
   "cell_type": "markdown",
   "id": "96c38eab",
   "metadata": {},
   "source": [
    "# Classifiers"
   ]
  },
  {
   "cell_type": "code",
   "execution_count": 5,
   "id": "b4ebc6bc",
   "metadata": {},
   "outputs": [],
   "source": [
    "# Create a empty dataframe for results\n",
    "finalEval = pd.DataFrame(columns=['Name', 'Accuracy', 'Precision', 'Recall', 'F1_score', 'Time_Taken'])"
   ]
  },
  {
   "cell_type": "markdown",
   "id": "1c20072e",
   "metadata": {},
   "source": [
    "### Random Forest Classifier"
   ]
  },
  {
   "cell_type": "code",
   "execution_count": 6,
   "id": "77a7cef5",
   "metadata": {},
   "outputs": [],
   "source": [
    "# Create a base model\n",
    "rf = RandomForestClassifier()\n",
    "\n",
    "# start time\n",
    "begin = time.time()\n",
    "\n",
    "# Fit the model to the data\n",
    "rf.fit(X_train, y_train)\n",
    "\n",
    "# Predict the response for test dataset\n",
    "y_pred_RF = rf.predict(X_test)\n",
    "\n",
    "# end time\n",
    "end = time.time()\n",
    "\n",
    "# time taken\n",
    "timeTakenRF = end-begin"
   ]
  },
  {
   "cell_type": "code",
   "execution_count": 7,
   "id": "a22a9e30",
   "metadata": {},
   "outputs": [
    {
     "name": "stdout",
     "output_type": "stream",
     "text": [
      "              precision    recall  f1-score   support\n",
      "\n",
      "       crime       0.71      0.37      0.48        98\n",
      "     fantasy       0.69      0.83      0.76       212\n",
      "     history       0.72      0.65      0.68       143\n",
      "      horror       0.75      0.34      0.47       115\n",
      "     science       0.76      0.69      0.72       137\n",
      "    thriller       0.56      0.79      0.65       226\n",
      "\n",
      "    accuracy                           0.66       931\n",
      "   macro avg       0.70      0.61      0.63       931\n",
      "weighted avg       0.68      0.66      0.65       931\n",
      "\n"
     ]
    }
   ],
   "source": [
    "# Print Classification Report\n",
    "print(classification_report(y_test, y_pred_RF))"
   ]
  },
  {
   "cell_type": "code",
   "execution_count": 8,
   "id": "58a6fbcf",
   "metadata": {},
   "outputs": [],
   "source": [
    "# Create empty metrics list\n",
    "metricsListRF = []\n",
    "\n",
    "# Insert results to the metrics list\n",
    "metricsListRF.append('Random Forest')\n",
    "metricsListRF.append(accuracy_score(y_pred_RF, y_test))\n",
    "metricsListRF.append(precision_score(y_pred_RF, y_test, average = 'macro'))\n",
    "metricsListRF.append(recall_score(y_pred_RF, y_test, average = 'macro'))\n",
    "metricsListRF.append(f1_score(y_pred_RF, y_test, average = 'macro'))\n",
    "metricsListRF.append(timeTakenRF)\n",
    "\n",
    "# Append the results to the dataframe\n",
    "finalEval.loc[len(finalEval)] = metricsListRF"
   ]
  },
  {
   "cell_type": "markdown",
   "id": "3185d601",
   "metadata": {},
   "source": [
    "### MLP Classifier"
   ]
  },
  {
   "cell_type": "code",
   "execution_count": 9,
   "id": "77607475",
   "metadata": {},
   "outputs": [],
   "source": [
    "# Create the base model\n",
    "mlpc = MLPClassifier()\n",
    "\n",
    "# start time\n",
    "begin = time.time()\n",
    "\n",
    "# Fit the model to the data\n",
    "mlpc.fit(X_train, y_train)\n",
    "\n",
    "# Predict the response for test dataset\n",
    "y_pred_MLP = mlpc.predict(X_test)\n",
    "\n",
    "# end time\n",
    "end = time.time()\n",
    "\n",
    "# time taken\n",
    "timeTakenMLP = end-begin"
   ]
  },
  {
   "cell_type": "code",
   "execution_count": 10,
   "id": "24af4da8",
   "metadata": {},
   "outputs": [
    {
     "name": "stdout",
     "output_type": "stream",
     "text": [
      "              precision    recall  f1-score   support\n",
      "\n",
      "       crime       0.83      0.63      0.72        98\n",
      "     fantasy       0.86      0.79      0.82       212\n",
      "     history       0.81      0.79      0.80       143\n",
      "      horror       0.71      0.67      0.69       115\n",
      "     science       0.80      0.77      0.79       137\n",
      "    thriller       0.68      0.84      0.75       226\n",
      "\n",
      "    accuracy                           0.77       931\n",
      "   macro avg       0.78      0.75      0.76       931\n",
      "weighted avg       0.78      0.77      0.77       931\n",
      "\n"
     ]
    }
   ],
   "source": [
    "# Print Classification Report\n",
    "print(classification_report(y_test, y_pred_MLP))"
   ]
  },
  {
   "cell_type": "code",
   "execution_count": 11,
   "id": "72364f23",
   "metadata": {},
   "outputs": [],
   "source": [
    "# Create empty metrics list\n",
    "metricsListMLP = []\n",
    "\n",
    "# Insert results to the metrics list\n",
    "metricsListMLP.append('MLP Classifier')\n",
    "metricsListMLP.append(accuracy_score(y_pred_MLP, y_test))\n",
    "metricsListMLP.append(precision_score(y_pred_MLP, y_test, average = 'macro'))\n",
    "metricsListMLP.append(recall_score(y_pred_MLP, y_test, average = 'macro'))\n",
    "metricsListMLP.append(f1_score(y_pred_MLP, y_test, average = 'macro'))\n",
    "metricsListMLP.append(timeTakenMLP)\n",
    "\n",
    "# Append the results to the dataframe\n",
    "finalEval.loc[len(finalEval)] = metricsListMLP"
   ]
  },
  {
   "cell_type": "markdown",
   "id": "768b3ef9",
   "metadata": {},
   "source": [
    "### Support Vector Classifier"
   ]
  },
  {
   "cell_type": "code",
   "execution_count": 12,
   "id": "012956d8",
   "metadata": {},
   "outputs": [],
   "source": [
    "# Create sv classifer object\n",
    "svc = SVC()\n",
    "\n",
    "# start time\n",
    "begin = time.time()\n",
    "\n",
    "# Fit the model to the data\n",
    "svc.fit(X_train, y_train)\n",
    "\n",
    "# Predict the response for test dataset\n",
    "y_pred_SVC = svc.predict(X_test)\n",
    "\n",
    "# end time\n",
    "end = time.time()\n",
    "\n",
    "# time taken\n",
    "timeTakenSVC = end-begin"
   ]
  },
  {
   "cell_type": "code",
   "execution_count": 13,
   "id": "b8c0be0d",
   "metadata": {
    "scrolled": true
   },
   "outputs": [
    {
     "name": "stdout",
     "output_type": "stream",
     "text": [
      "              precision    recall  f1-score   support\n",
      "\n",
      "       crime       0.95      0.20      0.34        98\n",
      "     fantasy       0.79      0.83      0.81       212\n",
      "     history       0.87      0.59      0.71       143\n",
      "      horror       0.97      0.32      0.48       115\n",
      "     science       0.89      0.64      0.74       137\n",
      "    thriller       0.48      0.95      0.63       226\n",
      "\n",
      "    accuracy                           0.67       931\n",
      "   macro avg       0.82      0.59      0.62       931\n",
      "weighted avg       0.78      0.67      0.65       931\n",
      "\n"
     ]
    }
   ],
   "source": [
    "# Print Classification Report\n",
    "print(classification_report(y_test, y_pred_SVC))"
   ]
  },
  {
   "cell_type": "code",
   "execution_count": 14,
   "id": "989e89e1",
   "metadata": {},
   "outputs": [],
   "source": [
    "# Create empty metrics list\n",
    "metricsListSVC = []\n",
    "\n",
    "# Insert results to the metrics list\n",
    "metricsListSVC.append('Support Vector')\n",
    "metricsListSVC.append(accuracy_score(y_pred_SVC, y_test))\n",
    "metricsListSVC.append(precision_score(y_pred_SVC, y_test, average = 'macro'))\n",
    "metricsListSVC.append(recall_score(y_pred_SVC, y_test, average = 'macro'))\n",
    "metricsListSVC.append(f1_score(y_pred_SVC, y_test, average = 'macro'))\n",
    "metricsListSVC.append(timeTakenSVC)\n",
    "\n",
    "# Append the results to the dataframe\n",
    "finalEval.loc[len(finalEval)] = metricsListSVC"
   ]
  },
  {
   "cell_type": "markdown",
   "id": "2808b898",
   "metadata": {},
   "source": [
    "### Adaboost Classifier"
   ]
  },
  {
   "cell_type": "code",
   "execution_count": 15,
   "id": "1f46e53c",
   "metadata": {},
   "outputs": [],
   "source": [
    "# Create adaboost classifer object\n",
    "abc = AdaBoostClassifier()\n",
    "\n",
    "# start time\n",
    "begin = time.time()\n",
    "\n",
    "# Train Adaboost Classifer\n",
    "modelABC = abc.fit(X_train, y_train)\n",
    "\n",
    "#Predict the response for test dataset\n",
    "y_pred_abc = modelABC.predict(X_test)\n",
    "\n",
    "# end time\n",
    "end = time.time()\n",
    "\n",
    "# time taken\n",
    "timeTakenABC = end-begin"
   ]
  },
  {
   "cell_type": "code",
   "execution_count": 16,
   "id": "9ff948e3",
   "metadata": {},
   "outputs": [
    {
     "name": "stdout",
     "output_type": "stream",
     "text": [
      "              precision    recall  f1-score   support\n",
      "\n",
      "       crime       0.62      0.47      0.53        98\n",
      "     fantasy       0.69      0.52      0.59       212\n",
      "     history       0.40      0.57      0.47       143\n",
      "      horror       0.41      0.37      0.39       115\n",
      "     science       0.59      0.63      0.61       137\n",
      "    thriller       0.50      0.54      0.52       226\n",
      "\n",
      "    accuracy                           0.53       931\n",
      "   macro avg       0.54      0.52      0.52       931\n",
      "weighted avg       0.54      0.53      0.53       931\n",
      "\n"
     ]
    }
   ],
   "source": [
    "# Print Classification Report\n",
    "print(classification_report(y_test, y_pred_abc))"
   ]
  },
  {
   "cell_type": "code",
   "execution_count": 17,
   "id": "3ba12bf5",
   "metadata": {},
   "outputs": [],
   "source": [
    "# Create empty metrics list\n",
    "metricsListABC = []\n",
    "\n",
    "# Insert results to the metrics list\n",
    "metricsListABC.append('Adaboost')\n",
    "metricsListABC.append(accuracy_score(y_pred_abc, y_test))\n",
    "metricsListABC.append(precision_score(y_pred_abc, y_test, average = 'macro'))\n",
    "metricsListABC.append(recall_score(y_pred_abc, y_test, average = 'macro'))\n",
    "metricsListABC.append(f1_score(y_pred_abc, y_test, average = 'macro'))\n",
    "metricsListABC.append(timeTakenABC)\n",
    "\n",
    "# Append the results to the dataframe\n",
    "finalEval.loc[len(finalEval)] = metricsListABC"
   ]
  },
  {
   "cell_type": "markdown",
   "id": "82cb40d7",
   "metadata": {},
   "source": [
    "### SGD Classifier"
   ]
  },
  {
   "cell_type": "code",
   "execution_count": 18,
   "id": "151a0ee1",
   "metadata": {},
   "outputs": [],
   "source": [
    "# Create sgd classifier object\n",
    "sgdc = SGDClassifier() \n",
    "\n",
    "# start time\n",
    "begin = time.time()\n",
    "\n",
    "# Train SGD Classifier\n",
    "modelSGD = sgdc.fit(X_train, y_train)\n",
    "\n",
    "#Predict the response for test dataset\n",
    "y_pred_sgd = modelSGD.predict(X_test)\n",
    "\n",
    "# end time\n",
    "end = time.time()\n",
    "\n",
    "# time taken\n",
    "timeTakenSGD = end-begin"
   ]
  },
  {
   "cell_type": "code",
   "execution_count": 19,
   "id": "c362b223",
   "metadata": {},
   "outputs": [
    {
     "name": "stdout",
     "output_type": "stream",
     "text": [
      "              precision    recall  f1-score   support\n",
      "\n",
      "       crime       0.76      0.70      0.73        98\n",
      "     fantasy       0.82      0.84      0.83       212\n",
      "     history       0.79      0.78      0.78       143\n",
      "      horror       0.73      0.68      0.70       115\n",
      "     science       0.81      0.74      0.77       137\n",
      "    thriller       0.71      0.78      0.74       226\n",
      "\n",
      "    accuracy                           0.77       931\n",
      "   macro avg       0.77      0.75      0.76       931\n",
      "weighted avg       0.77      0.77      0.77       931\n",
      "\n"
     ]
    }
   ],
   "source": [
    "# Print Classification Report\n",
    "print(classification_report(y_test, y_pred_sgd))"
   ]
  },
  {
   "cell_type": "code",
   "execution_count": 23,
   "id": "11b94dbd",
   "metadata": {},
   "outputs": [],
   "source": [
    "# Create sgd classifier object\n",
    "sgdc = SGDClassifier() \n",
    "print(sgdc)\n",
    "# start time\n",
    "begin = time.time()\n",
    "\n",
    "# Train SGD Classifier\n",
    "modelSGD = sgdc.fit(X_train, y_train)\n",
    "\n",
    "#Predict the response for test dataset\n",
    "y_pred_sgd = modelSGD.predict(X_test)\n",
    "\n",
    "# end time\n",
    "end = time.time()\n",
    "\n",
    "# time taken\n",
    "timeTakenSGD = end-begin"
   ]
  },
  {
   "cell_type": "code",
   "execution_count": 24,
   "id": "15d239fa",
   "metadata": {},
   "outputs": [
    {
     "name": "stdout",
     "output_type": "stream",
     "text": [
      "              precision    recall  f1-score   support\n",
      "\n",
      "       crime       0.79      0.63      0.70        98\n",
      "     fantasy       0.82      0.83      0.83       212\n",
      "     history       0.78      0.78      0.78       143\n",
      "      horror       0.69      0.70      0.69       115\n",
      "     science       0.81      0.74      0.78       137\n",
      "    thriller       0.70      0.79      0.74       226\n",
      "\n",
      "    accuracy                           0.76       931\n",
      "   macro avg       0.77      0.75      0.75       931\n",
      "weighted avg       0.77      0.76      0.76       931\n",
      "\n"
     ]
    }
   ],
   "source": [
    "# Print Classification Report\n",
    "print(classification_report(y_test, y_pred_sgd))"
   ]
  },
  {
   "cell_type": "code",
   "execution_count": 20,
   "id": "2870813c",
   "metadata": {},
   "outputs": [],
   "source": [
    "# Create empty metrics list\n",
    "metricsListSGD = []\n",
    "\n",
    "# Insert results to the metrics list\n",
    "metricsListSGD.append('SGD Classifier')\n",
    "metricsListSGD.append(accuracy_score(y_pred_sgd, y_test))\n",
    "metricsListSGD.append(precision_score(y_pred_sgd, y_test, average = 'macro'))\n",
    "metricsListSGD.append(recall_score(y_pred_sgd, y_test, average = 'macro'))\n",
    "metricsListSGD.append(f1_score(y_pred_sgd, y_test, average = 'macro'))\n",
    "metricsListSGD.append(timeTakenSGD)\n",
    "\n",
    "# Append the results to the dataframe\n",
    "finalEval.loc[len(finalEval)] = metricsListSGD"
   ]
  },
  {
   "cell_type": "markdown",
   "id": "20109fa3",
   "metadata": {},
   "source": [
    "### XGBoost Classifier"
   ]
  },
  {
   "cell_type": "code",
   "execution_count": 21,
   "id": "dba12675",
   "metadata": {},
   "outputs": [],
   "source": [
    "# create label encoder for XG Boost\n",
    "le = LabelEncoder()\n",
    "y_train_le = le.fit_transform(y_train)\n",
    "y_test_le = le.fit_transform(y_test)\n",
    "\n",
    "# Create xgb classifer object\n",
    "xgbc = XGBClassifier()\n",
    "\n",
    "# start time\n",
    "begin = time.time()\n",
    "\n",
    "# Fit the model to the data\n",
    "xgbc.fit(X_train, y_train_le)\n",
    "\n",
    "# Predict the response for test dataset\n",
    "y_pred_XGB = xgbc.predict(X_test)\n",
    "\n",
    "# end time\n",
    "end = time.time()\n",
    "\n",
    "# time taken\n",
    "timeTakenXGB = end-begin"
   ]
  },
  {
   "cell_type": "code",
   "execution_count": 22,
   "id": "6b89c0d4",
   "metadata": {},
   "outputs": [
    {
     "name": "stdout",
     "output_type": "stream",
     "text": [
      "              precision    recall  f1-score   support\n",
      "\n",
      "           0       0.67      0.57      0.62        98\n",
      "           1       0.78      0.72      0.75       212\n",
      "           2       0.66      0.71      0.68       143\n",
      "           3       0.65      0.55      0.59       115\n",
      "           4       0.70      0.69      0.69       137\n",
      "           5       0.62      0.73      0.67       226\n",
      "\n",
      "    accuracy                           0.68       931\n",
      "   macro avg       0.68      0.66      0.67       931\n",
      "weighted avg       0.68      0.68      0.68       931\n",
      "\n"
     ]
    }
   ],
   "source": [
    "# Print Classification Report\n",
    "print(classification_report(y_test_le, y_pred_XGB))"
   ]
  },
  {
   "cell_type": "code",
   "execution_count": 23,
   "id": "2e6c8358",
   "metadata": {},
   "outputs": [
    {
     "data": {
      "text/plain": [
       "'\\nHere the genres are LABEL ENCODED.\\n\\nGenre    Class\\ncrime    0\\nfantasy  1\\nhistory  2\\nhorror   3\\nscience  4\\nthriller 5\\n'"
      ]
     },
     "execution_count": 23,
     "metadata": {},
     "output_type": "execute_result"
    }
   ],
   "source": [
    "\"\"\"\n",
    "Here the genres are LABEL ENCODED.\n",
    "\n",
    "Genre    Class\n",
    "crime    0\n",
    "fantasy  1\n",
    "history  2\n",
    "horror   3\n",
    "science  4\n",
    "thriller 5\n",
    "\"\"\""
   ]
  },
  {
   "cell_type": "code",
   "execution_count": 24,
   "id": "56070461",
   "metadata": {},
   "outputs": [],
   "source": [
    "# Create empty metrics list\n",
    "metricsListXGB = []\n",
    "\n",
    "# Insert results to the metrics list\n",
    "metricsListXGB.append('XG Boost')\n",
    "metricsListXGB.append(accuracy_score(y_pred_XGB, y_test_le))\n",
    "metricsListXGB.append(precision_score(y_pred_XGB, y_test_le, average = 'macro'))\n",
    "metricsListXGB.append(recall_score(y_pred_XGB, y_test_le, average = 'macro'))\n",
    "metricsListXGB.append(f1_score(y_pred_XGB, y_test_le, average = 'macro'))\n",
    "metricsListXGB.append(timeTakenXGB)\n",
    "\n",
    "# Append the results to the dataframe\n",
    "finalEval.loc[len(finalEval)] = metricsListXGB"
   ]
  },
  {
   "cell_type": "markdown",
   "id": "4d1f8530",
   "metadata": {},
   "source": [
    "## Export final Result"
   ]
  },
  {
   "cell_type": "code",
   "execution_count": 25,
   "id": "27a619d6",
   "metadata": {},
   "outputs": [],
   "source": [
    "# Export data\n",
    "finalEval.to_csv( \"../data/finalEvaluationTFIDF.csv\", index=False, encoding='utf-8-sig')"
   ]
  },
  {
   "cell_type": "markdown",
   "id": "20126454",
   "metadata": {},
   "source": [
    "## Comparison of all Classifiers"
   ]
  },
  {
   "cell_type": "code",
   "execution_count": 26,
   "id": "3be3022b",
   "metadata": {},
   "outputs": [
    {
     "name": "stdout",
     "output_type": "stream",
     "text": [
      "             Name  Accuracy  Precision    Recall  F1_score  Time_Taken\n",
      "0   Random Forest  0.662728   0.610864  0.697570  0.627377   11.624411\n",
      "1  MLP Classifier  0.767991   0.749148  0.779721  0.760527  310.286797\n",
      "2  Support Vector  0.667025   0.590249  0.824502  0.618627   41.631807\n",
      "3        Adaboost  0.525242   0.516765  0.535776  0.519768   19.471332\n",
      "4  SGD Classifier  0.766917   0.753100  0.769380  0.760218    0.186882\n",
      "5        XG Boost  0.678840   0.660957  0.679925  0.667874   29.539267\n"
     ]
    }
   ],
   "source": [
    "# Print all classifier results\n",
    "print(finalEval)"
   ]
  },
  {
   "cell_type": "code",
   "execution_count": 10,
   "id": "6f1190b4",
   "metadata": {},
   "outputs": [
    {
     "data": {
      "text/plain": [
       "<AxesSubplot:xlabel='Classifiers', ylabel='Accuracy'>"
      ]
     },
     "execution_count": 10,
     "metadata": {},
     "output_type": "execute_result"
    },
    {
     "data": {
      "image/png": "[encoded data removed]",
      "text/plain": [
       "<Figure size 432x288 with 1 Axes>"
      ]
     },
     "metadata": {
      "needs_background": "light"
     },
     "output_type": "display_data"
    }
   ],
   "source": [
    "finalEval = pd.read_csv(\"../data/finalEvaluationTFIDF.csv\")\n",
    "\n",
    "# Bar Plot to compare accuracies from different classifiers \n",
    "finalEval.sort_values('Accuracy', ascending= False).plot(kind = 'bar',\n",
    "                                                         x='Name', y ='Accuracy',\n",
    "                                                         xlabel = 'Classifiers', ylabel = 'Accuracy')"
   ]
  },
  {
   "cell_type": "code",
   "execution_count": 11,
   "id": "0be28828",
   "metadata": {},
   "outputs": [
    {
     "data": {
      "text/plain": [
       "<AxesSubplot:xlabel='Classifiers', ylabel='Time Taken'>"
      ]
     },
     "execution_count": 11,
     "metadata": {},
     "output_type": "execute_result"
    },
    {
     "data": {
      "image/png": "[encoded data removed]",
      "text/plain": [
       "<Figure size 432x288 with 1 Axes>"
      ]
     },
     "metadata": {
      "needs_background": "light"
     },
     "output_type": "display_data"
    }
   ],
   "source": [
    "# Bar Plot for Time taken by different classifiers\n",
    "finalEval.sort_values('Time_Taken', ascending= False).plot(kind = 'bar',\n",
    "                                                         x='Name', y ='Time_Taken',\n",
    "                                                         xlabel = 'Classifiers', ylabel = 'Time Taken')"
   ]
  },
  {
   "cell_type": "markdown",
   "id": "f22aa161",
   "metadata": {},
   "source": [
    "## Confusion Matrix for our best classifier"
   ]
  },
  {
   "cell_type": "code",
   "execution_count": 29,
   "id": "22de980a",
   "metadata": {},
   "outputs": [
    {
     "data": {
      "text/plain": [
       "<sklearn.metrics._plot.confusion_matrix.ConfusionMatrixDisplay at 0x1678f46a7c0>"
      ]
     },
     "execution_count": 29,
     "metadata": {},
     "output_type": "execute_result"
    },
    {
     "data": {
      "image/png": "[encoded data removed]",
      "text/plain": [
       "<Figure size 720x720 with 2 Axes>"
      ]
     },
     "metadata": {
      "needs_background": "light"
     },
     "output_type": "display_data"
    }
   ],
   "source": [
    "plt.figure(figsize=(10,10))\n",
    "ax= plt.subplot()\n",
    "cm = confusion_matrix(y_test, y_pred_MLP)\n",
    "disp = ConfusionMatrixDisplay(confusion_matrix=cm, display_labels=data.genre.unique())\n",
    "disp.plot(ax=ax)"
   ]
  },
  {
   "cell_type": "markdown",
   "id": "6cf15055",
   "metadata": {},
   "source": [
    "We observe here that the model really perfoms well. Except some fantasy genre being classified as thriller, the performance of the model seems well."
   ]
  },
  {
   "cell_type": "markdown",
   "id": "adb0a7e1",
   "metadata": {},
   "source": [
    "# Conclusion"
   ]
  },
  {
   "cell_type": "markdown",
   "id": "2850b744",
   "metadata": {},
   "source": [
    "From the final evaluation dataframe we can notice that MLP Classifier and SGD Classifier gives the best accuracy of around 77%. While other classifier such as Support Vector and XGBoost are also very close with around 67% of accuracy.\n",
    "\n",
    "It is also our point of interest that though both MLP and SGD give us the best accuracy, but time taken by SGD is extremely great which is less than 1 sec, while MLP takes around 120 sec.\n",
    "\n",
    "So, I would conclude that based on above observation, SGD in this case is the most efficient classifier.\n"
   ]
  }
 ],
 "metadata": {
  "kernelspec": {
   "display_name": "Python 3 (ipykernel)",
   "language": "python",
   "name": "python3"
  },
  "language_info": {
   "codemirror_mode": {
    "name": "ipython",
    "version": 3
   },
   "file_extension": ".py",
   "mimetype": "text/x-python",
   "name": "python",
   "nbconvert_exporter": "python",
   "pygments_lexer": "ipython3",
   "version": "3.9.12"
  }
 },
 "nbformat": 4,
 "nbformat_minor": 5
}
