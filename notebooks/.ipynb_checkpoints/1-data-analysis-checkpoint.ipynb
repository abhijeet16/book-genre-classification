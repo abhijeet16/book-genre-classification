{
 "cells": [
  {
   "cell_type": "markdown",
   "id": "328efd7e",
   "metadata": {},
   "source": [
    "# Libraries"
   ]
  },
  {
   "cell_type": "code",
   "execution_count": 1,
   "id": "d36fb0a9",
   "metadata": {},
   "outputs": [],
   "source": [
    "import numpy as np\n",
    "import pandas as pd\n",
    "\n",
    "import re\n",
    "import string\n",
    "\n",
    "import matplotlib.pyplot as plt\n",
    "import seaborn as sns\n",
    "\n",
    "from IPython.display import clear_output"
   ]
  },
  {
   "cell_type": "markdown",
   "id": "701645f2",
   "metadata": {},
   "source": [
    "# Import Data"
   ]
  },
  {
   "cell_type": "code",
   "execution_count": 2,
   "id": "e343e58c",
   "metadata": {},
   "outputs": [
    {
     "data": {
      "text/html": [
       "<div>\n",
       "<style scoped>\n",
       "    .dataframe tbody tr th:only-of-type {\n",
       "        vertical-align: middle;\n",
       "    }\n",
       "\n",
       "    .dataframe tbody tr th {\n",
       "        vertical-align: top;\n",
       "    }\n",
       "\n",
       "    .dataframe thead th {\n",
       "        text-align: right;\n",
       "    }\n",
       "</style>\n",
       "<table border=\"1\" class=\"dataframe\">\n",
       "  <thead>\n",
       "    <tr style=\"text-align: right;\">\n",
       "      <th></th>\n",
       "      <th>index</th>\n",
       "      <th>title</th>\n",
       "      <th>genre</th>\n",
       "      <th>summary</th>\n",
       "    </tr>\n",
       "  </thead>\n",
       "  <tbody>\n",
       "    <tr>\n",
       "      <th>0</th>\n",
       "      <td>0</td>\n",
       "      <td>Drowned Wednesday</td>\n",
       "      <td>fantasy</td>\n",
       "      <td>Drowned Wednesday is the first Trustee among ...</td>\n",
       "    </tr>\n",
       "    <tr>\n",
       "      <th>1</th>\n",
       "      <td>1</td>\n",
       "      <td>The Lost Hero</td>\n",
       "      <td>fantasy</td>\n",
       "      <td>As the book opens, Jason awakens on a school ...</td>\n",
       "    </tr>\n",
       "    <tr>\n",
       "      <th>2</th>\n",
       "      <td>2</td>\n",
       "      <td>The Eyes of the Overworld</td>\n",
       "      <td>fantasy</td>\n",
       "      <td>Cugel is easily persuaded by the merchant Fia...</td>\n",
       "    </tr>\n",
       "    <tr>\n",
       "      <th>3</th>\n",
       "      <td>3</td>\n",
       "      <td>Magic's Promise</td>\n",
       "      <td>fantasy</td>\n",
       "      <td>The book opens with Herald-Mage Vanyel return...</td>\n",
       "    </tr>\n",
       "    <tr>\n",
       "      <th>4</th>\n",
       "      <td>4</td>\n",
       "      <td>Taran Wanderer</td>\n",
       "      <td>fantasy</td>\n",
       "      <td>Taran and Gurgi have returned to Caer Dallben...</td>\n",
       "    </tr>\n",
       "    <tr>\n",
       "      <th>...</th>\n",
       "      <td>...</td>\n",
       "      <td>...</td>\n",
       "      <td>...</td>\n",
       "      <td>...</td>\n",
       "    </tr>\n",
       "    <tr>\n",
       "      <th>4652</th>\n",
       "      <td>4652</td>\n",
       "      <td>Hounded</td>\n",
       "      <td>fantasy</td>\n",
       "      <td>Atticus O’Sullivan, last of the Druids, lives ...</td>\n",
       "    </tr>\n",
       "    <tr>\n",
       "      <th>4653</th>\n",
       "      <td>4653</td>\n",
       "      <td>Charlie and the Chocolate Factory</td>\n",
       "      <td>fantasy</td>\n",
       "      <td>Charlie Bucket's wonderful adventure begins wh...</td>\n",
       "    </tr>\n",
       "    <tr>\n",
       "      <th>4654</th>\n",
       "      <td>4654</td>\n",
       "      <td>Red Rising</td>\n",
       "      <td>fantasy</td>\n",
       "      <td>\"I live for the dream that my children will be...</td>\n",
       "    </tr>\n",
       "    <tr>\n",
       "      <th>4655</th>\n",
       "      <td>4655</td>\n",
       "      <td>Frostbite</td>\n",
       "      <td>fantasy</td>\n",
       "      <td>Rose loves Dimitri, Dimitri might love Tasha, ...</td>\n",
       "    </tr>\n",
       "    <tr>\n",
       "      <th>4656</th>\n",
       "      <td>4656</td>\n",
       "      <td>Radiance</td>\n",
       "      <td>fantasy</td>\n",
       "      <td>The Prince of no value\\nBrishen Khaskem, princ...</td>\n",
       "    </tr>\n",
       "  </tbody>\n",
       "</table>\n",
       "<p>4657 rows × 4 columns</p>\n",
       "</div>"
      ],
      "text/plain": [
       "      index                              title    genre  \\\n",
       "0         0                  Drowned Wednesday  fantasy   \n",
       "1         1                      The Lost Hero  fantasy   \n",
       "2         2          The Eyes of the Overworld  fantasy   \n",
       "3         3                    Magic's Promise  fantasy   \n",
       "4         4                     Taran Wanderer  fantasy   \n",
       "...     ...                                ...      ...   \n",
       "4652   4652                            Hounded  fantasy   \n",
       "4653   4653  Charlie and the Chocolate Factory  fantasy   \n",
       "4654   4654                         Red Rising  fantasy   \n",
       "4655   4655                          Frostbite  fantasy   \n",
       "4656   4656                           Radiance  fantasy   \n",
       "\n",
       "                                                summary  \n",
       "0      Drowned Wednesday is the first Trustee among ...  \n",
       "1      As the book opens, Jason awakens on a school ...  \n",
       "2      Cugel is easily persuaded by the merchant Fia...  \n",
       "3      The book opens with Herald-Mage Vanyel return...  \n",
       "4      Taran and Gurgi have returned to Caer Dallben...  \n",
       "...                                                 ...  \n",
       "4652  Atticus O’Sullivan, last of the Druids, lives ...  \n",
       "4653  Charlie Bucket's wonderful adventure begins wh...  \n",
       "4654  \"I live for the dream that my children will be...  \n",
       "4655  Rose loves Dimitri, Dimitri might love Tasha, ...  \n",
       "4656  The Prince of no value\\nBrishen Khaskem, princ...  \n",
       "\n",
       "[4657 rows x 4 columns]"
      ]
     },
     "execution_count": 2,
     "metadata": {},
     "output_type": "execute_result"
    }
   ],
   "source": [
    "data = pd.read_csv(\"../data/original_data.csv\")\n",
    "data"
   ]
  },
  {
   "cell_type": "markdown",
   "id": "bde1bdf4",
   "metadata": {},
   "source": [
    "# About data"
   ]
  },
  {
   "cell_type": "code",
   "execution_count": 3,
   "id": "35402110",
   "metadata": {},
   "outputs": [
    {
     "name": "stdout",
     "output_type": "stream",
     "text": [
      "Data Shape    : (4657, 4)\n",
      "Movie Count   : 4296\n",
      "Genre Count   : 10\n"
     ]
    }
   ],
   "source": [
    "print(\"Data Shape    :\", data.shape)\n",
    "print(\"Movie Count   :\", data.title.nunique())\n",
    "print(\"Genre Count   :\", data.genre.nunique())"
   ]
  },
  {
   "cell_type": "code",
   "execution_count": 4,
   "id": "a40ecd87",
   "metadata": {},
   "outputs": [
    {
     "data": {
      "text/plain": [
       "index      0\n",
       "title      0\n",
       "genre      0\n",
       "summary    0\n",
       "dtype: int64"
      ]
     },
     "execution_count": 4,
     "metadata": {},
     "output_type": "execute_result"
    }
   ],
   "source": [
    "data.isna().sum()"
   ]
  },
  {
   "cell_type": "markdown",
   "id": "ed326ea5",
   "metadata": {},
   "source": [
    "We observe that there is no missing data in our data."
   ]
  },
  {
   "cell_type": "code",
   "execution_count": 5,
   "id": "4d8c1cdc",
   "metadata": {},
   "outputs": [
    {
     "data": {
      "text/html": [
       "<div>\n",
       "<style scoped>\n",
       "    .dataframe tbody tr th:only-of-type {\n",
       "        vertical-align: middle;\n",
       "    }\n",
       "\n",
       "    .dataframe tbody tr th {\n",
       "        vertical-align: top;\n",
       "    }\n",
       "\n",
       "    .dataframe thead th {\n",
       "        text-align: right;\n",
       "    }\n",
       "</style>\n",
       "<table border=\"1\" class=\"dataframe\">\n",
       "  <thead>\n",
       "    <tr style=\"text-align: right;\">\n",
       "      <th></th>\n",
       "      <th>index</th>\n",
       "      <th>title</th>\n",
       "      <th>genre</th>\n",
       "      <th>summary</th>\n",
       "    </tr>\n",
       "  </thead>\n",
       "  <tbody>\n",
       "    <tr>\n",
       "      <th>329</th>\n",
       "      <td>329</td>\n",
       "      <td>Outcast</td>\n",
       "      <td>fantasy</td>\n",
       "      <td>At the beginning of the book, Hollypaw, Lionp...</td>\n",
       "    </tr>\n",
       "    <tr>\n",
       "      <th>466</th>\n",
       "      <td>466</td>\n",
       "      <td>The Immortals</td>\n",
       "      <td>fantasy</td>\n",
       "      <td>When a cure for AIDS turns out to be more vir...</td>\n",
       "    </tr>\n",
       "    <tr>\n",
       "      <th>566</th>\n",
       "      <td>566</td>\n",
       "      <td>Dawn</td>\n",
       "      <td>science</td>\n",
       "      <td>Isak has attempted to explain his foretelling...</td>\n",
       "    </tr>\n",
       "    <tr>\n",
       "      <th>1059</th>\n",
       "      <td>1059</td>\n",
       "      <td>Revelation</td>\n",
       "      <td>crime</td>\n",
       "      <td>The plot centres around the challenges of pos...</td>\n",
       "    </tr>\n",
       "    <tr>\n",
       "      <th>1088</th>\n",
       "      <td>1088</td>\n",
       "      <td>Nemesis</td>\n",
       "      <td>crime</td>\n",
       "      <td>Miss Marple receives a post card from the rec...</td>\n",
       "    </tr>\n",
       "    <tr>\n",
       "      <th>...</th>\n",
       "      <td>...</td>\n",
       "      <td>...</td>\n",
       "      <td>...</td>\n",
       "      <td>...</td>\n",
       "    </tr>\n",
       "    <tr>\n",
       "      <th>4598</th>\n",
       "      <td>4598</td>\n",
       "      <td>The Alchemist</td>\n",
       "      <td>fantasy</td>\n",
       "      <td>Combining magic, mysticism, wisdom and wonder ...</td>\n",
       "    </tr>\n",
       "    <tr>\n",
       "      <th>4604</th>\n",
       "      <td>4604</td>\n",
       "      <td>The Goose Girl</td>\n",
       "      <td>fantasy</td>\n",
       "      <td>She was born with her eyes closed and a word o...</td>\n",
       "    </tr>\n",
       "    <tr>\n",
       "      <th>4616</th>\n",
       "      <td>4616</td>\n",
       "      <td>The Phantom Tollbooth</td>\n",
       "      <td>fantasy</td>\n",
       "      <td>Librarian's Note: For an alternate cover editi...</td>\n",
       "    </tr>\n",
       "    <tr>\n",
       "      <th>4638</th>\n",
       "      <td>4638</td>\n",
       "      <td>Perdido Street Station</td>\n",
       "      <td>fantasy</td>\n",
       "      <td>Beneath the towering bleached ribs of a dead, ...</td>\n",
       "    </tr>\n",
       "    <tr>\n",
       "      <th>4655</th>\n",
       "      <td>4655</td>\n",
       "      <td>Frostbite</td>\n",
       "      <td>fantasy</td>\n",
       "      <td>Rose loves Dimitri, Dimitri might love Tasha, ...</td>\n",
       "    </tr>\n",
       "  </tbody>\n",
       "</table>\n",
       "<p>361 rows × 4 columns</p>\n",
       "</div>"
      ],
      "text/plain": [
       "      index                   title    genre  \\\n",
       "329     329                 Outcast  fantasy   \n",
       "466     466           The Immortals  fantasy   \n",
       "566     566                    Dawn  science   \n",
       "1059   1059              Revelation    crime   \n",
       "1088   1088                 Nemesis    crime   \n",
       "...     ...                     ...      ...   \n",
       "4598   4598           The Alchemist  fantasy   \n",
       "4604   4604          The Goose Girl  fantasy   \n",
       "4616   4616   The Phantom Tollbooth  fantasy   \n",
       "4638   4638  Perdido Street Station  fantasy   \n",
       "4655   4655               Frostbite  fantasy   \n",
       "\n",
       "                                                summary  \n",
       "329    At the beginning of the book, Hollypaw, Lionp...  \n",
       "466    When a cure for AIDS turns out to be more vir...  \n",
       "566    Isak has attempted to explain his foretelling...  \n",
       "1059   The plot centres around the challenges of pos...  \n",
       "1088   Miss Marple receives a post card from the rec...  \n",
       "...                                                 ...  \n",
       "4598  Combining magic, mysticism, wisdom and wonder ...  \n",
       "4604  She was born with her eyes closed and a word o...  \n",
       "4616  Librarian's Note: For an alternate cover editi...  \n",
       "4638  Beneath the towering bleached ribs of a dead, ...  \n",
       "4655  Rose loves Dimitri, Dimitri might love Tasha, ...  \n",
       "\n",
       "[361 rows x 4 columns]"
      ]
     },
     "execution_count": 5,
     "metadata": {},
     "output_type": "execute_result"
    }
   ],
   "source": [
    "# Duplicate title\n",
    "data[data.title.duplicated()]"
   ]
  },
  {
   "cell_type": "code",
   "execution_count": 6,
   "id": "ec141c25",
   "metadata": {},
   "outputs": [
    {
     "data": {
      "text/html": [
       "<div>\n",
       "<style scoped>\n",
       "    .dataframe tbody tr th:only-of-type {\n",
       "        vertical-align: middle;\n",
       "    }\n",
       "\n",
       "    .dataframe tbody tr th {\n",
       "        vertical-align: top;\n",
       "    }\n",
       "\n",
       "    .dataframe thead th {\n",
       "        text-align: right;\n",
       "    }\n",
       "</style>\n",
       "<table border=\"1\" class=\"dataframe\">\n",
       "  <thead>\n",
       "    <tr style=\"text-align: right;\">\n",
       "      <th></th>\n",
       "      <th>index</th>\n",
       "      <th>title</th>\n",
       "      <th>genre</th>\n",
       "      <th>summary</th>\n",
       "    </tr>\n",
       "  </thead>\n",
       "  <tbody>\n",
       "    <tr>\n",
       "      <th>1574</th>\n",
       "      <td>1574</td>\n",
       "      <td>Guardians of Ga'Hoole Book 4: The Siege</td>\n",
       "      <td>history</td>\n",
       "      <td>==Receptio</td>\n",
       "    </tr>\n",
       "    <tr>\n",
       "      <th>2936</th>\n",
       "      <td>2936</td>\n",
       "      <td>Conviction</td>\n",
       "      <td>thriller</td>\n",
       "      <td>As described by Sherryl Connelly of the New Y...</td>\n",
       "    </tr>\n",
       "    <tr>\n",
       "      <th>3038</th>\n",
       "      <td>3038</td>\n",
       "      <td>The Radium Girls: The Dark Story of America's ...</td>\n",
       "      <td>history</td>\n",
       "      <td>The incredible true story of the women who fou...</td>\n",
       "    </tr>\n",
       "    <tr>\n",
       "      <th>3201</th>\n",
       "      <td>3201</td>\n",
       "      <td>Man's Search for Meaning</td>\n",
       "      <td>psychology</td>\n",
       "      <td>Psychiatrist Viktor Frankl's memoir has rivete...</td>\n",
       "    </tr>\n",
       "    <tr>\n",
       "      <th>3412</th>\n",
       "      <td>3412</td>\n",
       "      <td>A Short History of Nearly Everything</td>\n",
       "      <td>science</td>\n",
       "      <td>Bill Bryson describes himself as a reluctant t...</td>\n",
       "    </tr>\n",
       "    <tr>\n",
       "      <th>...</th>\n",
       "      <td>...</td>\n",
       "      <td>...</td>\n",
       "      <td>...</td>\n",
       "      <td>...</td>\n",
       "    </tr>\n",
       "    <tr>\n",
       "      <th>4500</th>\n",
       "      <td>4500</td>\n",
       "      <td>Hush, Hush</td>\n",
       "      <td>fantasy</td>\n",
       "      <td>A SACRED OATH\\nA FALLEN ANGEL\\nA FORBIDDEN LOV...</td>\n",
       "    </tr>\n",
       "    <tr>\n",
       "      <th>4503</th>\n",
       "      <td>4503</td>\n",
       "      <td>Dracula</td>\n",
       "      <td>fantasy</td>\n",
       "      <td>You can find an alternative cover edition for ...</td>\n",
       "    </tr>\n",
       "    <tr>\n",
       "      <th>4532</th>\n",
       "      <td>4532</td>\n",
       "      <td>The Hitchhiker's Guide to the Galaxy</td>\n",
       "      <td>fantasy</td>\n",
       "      <td>Seconds before the Earth is demolished to make...</td>\n",
       "    </tr>\n",
       "    <tr>\n",
       "      <th>4535</th>\n",
       "      <td>4535</td>\n",
       "      <td>Shatter Me</td>\n",
       "      <td>fantasy</td>\n",
       "      <td>I have a curse\\nI have a gift\\n\\nI am a monste...</td>\n",
       "    </tr>\n",
       "    <tr>\n",
       "      <th>4560</th>\n",
       "      <td>4560</td>\n",
       "      <td>Insurgent</td>\n",
       "      <td>fantasy</td>\n",
       "      <td>One choice can transform you—or it can destroy...</td>\n",
       "    </tr>\n",
       "  </tbody>\n",
       "</table>\n",
       "<p>115 rows × 4 columns</p>\n",
       "</div>"
      ],
      "text/plain": [
       "      index                                              title       genre  \\\n",
       "1574   1574            Guardians of Ga'Hoole Book 4: The Siege     history   \n",
       "2936   2936                                         Conviction    thriller   \n",
       "3038   3038  The Radium Girls: The Dark Story of America's ...     history   \n",
       "3201   3201                           Man's Search for Meaning  psychology   \n",
       "3412   3412               A Short History of Nearly Everything     science   \n",
       "...     ...                                                ...         ...   \n",
       "4500   4500                                         Hush, Hush     fantasy   \n",
       "4503   4503                                            Dracula     fantasy   \n",
       "4532   4532               The Hitchhiker's Guide to the Galaxy     fantasy   \n",
       "4535   4535                                         Shatter Me     fantasy   \n",
       "4560   4560                                          Insurgent     fantasy   \n",
       "\n",
       "                                                summary  \n",
       "1574                                         ==Receptio  \n",
       "2936   As described by Sherryl Connelly of the New Y...  \n",
       "3038  The incredible true story of the women who fou...  \n",
       "3201  Psychiatrist Viktor Frankl's memoir has rivete...  \n",
       "3412  Bill Bryson describes himself as a reluctant t...  \n",
       "...                                                 ...  \n",
       "4500  A SACRED OATH\\nA FALLEN ANGEL\\nA FORBIDDEN LOV...  \n",
       "4503  You can find an alternative cover edition for ...  \n",
       "4532  Seconds before the Earth is demolished to make...  \n",
       "4535  I have a curse\\nI have a gift\\n\\nI am a monste...  \n",
       "4560  One choice can transform you—or it can destroy...  \n",
       "\n",
       "[115 rows x 4 columns]"
      ]
     },
     "execution_count": 6,
     "metadata": {},
     "output_type": "execute_result"
    }
   ],
   "source": [
    "# Duplicate summary\n",
    "data[data.summary.duplicated()]"
   ]
  },
  {
   "cell_type": "code",
   "execution_count": 7,
   "id": "4bb31e56",
   "metadata": {},
   "outputs": [
    {
     "data": {
      "text/html": [
       "<div>\n",
       "<style scoped>\n",
       "    .dataframe tbody tr th:only-of-type {\n",
       "        vertical-align: middle;\n",
       "    }\n",
       "\n",
       "    .dataframe tbody tr th {\n",
       "        vertical-align: top;\n",
       "    }\n",
       "\n",
       "    .dataframe thead th {\n",
       "        text-align: right;\n",
       "    }\n",
       "</style>\n",
       "<table border=\"1\" class=\"dataframe\">\n",
       "  <thead>\n",
       "    <tr style=\"text-align: right;\">\n",
       "      <th></th>\n",
       "      <th>index</th>\n",
       "      <th>title</th>\n",
       "      <th>genre</th>\n",
       "      <th>summary</th>\n",
       "    </tr>\n",
       "  </thead>\n",
       "  <tbody>\n",
       "    <tr>\n",
       "      <th>506</th>\n",
       "      <td>506</td>\n",
       "      <td>The Hunger Games</td>\n",
       "      <td>science</td>\n",
       "      <td>The Hunger Games takes place in a nation know...</td>\n",
       "    </tr>\n",
       "    <tr>\n",
       "      <th>3331</th>\n",
       "      <td>3331</td>\n",
       "      <td>The Hunger Games</td>\n",
       "      <td>romance</td>\n",
       "      <td>Could you survive on your own in the wild, wit...</td>\n",
       "    </tr>\n",
       "    <tr>\n",
       "      <th>3527</th>\n",
       "      <td>3527</td>\n",
       "      <td>The Hunger Games</td>\n",
       "      <td>science</td>\n",
       "      <td>Could you survive on your own in the wild, wit...</td>\n",
       "    </tr>\n",
       "    <tr>\n",
       "      <th>4328</th>\n",
       "      <td>4328</td>\n",
       "      <td>The Hunger Games</td>\n",
       "      <td>fantasy</td>\n",
       "      <td>Could you survive on your own in the wild, wit...</td>\n",
       "    </tr>\n",
       "  </tbody>\n",
       "</table>\n",
       "</div>"
      ],
      "text/plain": [
       "      index             title    genre  \\\n",
       "506     506  The Hunger Games  science   \n",
       "3331   3331  The Hunger Games  romance   \n",
       "3527   3527  The Hunger Games  science   \n",
       "4328   4328  The Hunger Games  fantasy   \n",
       "\n",
       "                                                summary  \n",
       "506    The Hunger Games takes place in a nation know...  \n",
       "3331  Could you survive on your own in the wild, wit...  \n",
       "3527  Could you survive on your own in the wild, wit...  \n",
       "4328  Could you survive on your own in the wild, wit...  "
      ]
     },
     "execution_count": 7,
     "metadata": {},
     "output_type": "execute_result"
    }
   ],
   "source": [
    "data[data.title=='The Hunger Games']"
   ]
  },
  {
   "cell_type": "markdown",
   "id": "88c30ad6",
   "metadata": {},
   "source": [
    "We observe that, our data have duplicate values in our summary and title. We also observe that our duplicate title with same summary has been classified into several different genres."
   ]
  },
  {
   "cell_type": "markdown",
   "id": "e0db594c",
   "metadata": {},
   "source": [
    "# Analysis"
   ]
  },
  {
   "cell_type": "code",
   "execution_count": 8,
   "id": "79d4cf03",
   "metadata": {},
   "outputs": [
    {
     "data": {
      "text/plain": [
       "thriller      1023\n",
       "fantasy        876\n",
       "science        647\n",
       "history        600\n",
       "horror         600\n",
       "crime          500\n",
       "romance        111\n",
       "psychology     100\n",
       "sports         100\n",
       "travel         100\n",
       "Name: genre, dtype: int64"
      ]
     },
     "execution_count": 8,
     "metadata": {},
     "output_type": "execute_result"
    }
   ],
   "source": [
    "# Genre Counts\n",
    "data['genre'].value_counts()"
   ]
  },
  {
   "cell_type": "code",
   "execution_count": 9,
   "id": "73ad0e89",
   "metadata": {},
   "outputs": [
    {
     "data": {
      "text/plain": [
       "<AxesSubplot:>"
      ]
     },
     "execution_count": 9,
     "metadata": {},
     "output_type": "execute_result"
    },
    {
     "data": {
      "image/png": "[encoded data removed]",
      "text/plain": [
       "<Figure size 432x288 with 1 Axes>"
      ]
     },
     "metadata": {
      "needs_background": "light"
     },
     "output_type": "display_data"
    }
   ],
   "source": [
    "# Bar Plot for Genre counts\n",
    "data.genre.value_counts().sort_values(ascending = False).plot(kind = 'bar')"
   ]
  },
  {
   "cell_type": "markdown",
   "id": "e210954b",
   "metadata": {},
   "source": [
    "Out of the 10 available Genres, romance, travel, sports, and, psychology are very few in number (less than 120 individually)."
   ]
  },
  {
   "cell_type": "code",
   "execution_count": 10,
   "id": "8499934e",
   "metadata": {},
   "outputs": [
    {
     "name": "stdout",
     "output_type": "stream",
     "text": [
      "Minimum word count:  1\n",
      "Maximum word count:  5663\n"
     ]
    },
    {
     "data": {
      "text/html": [
       "<div>\n",
       "<style scoped>\n",
       "    .dataframe tbody tr th:only-of-type {\n",
       "        vertical-align: middle;\n",
       "    }\n",
       "\n",
       "    .dataframe tbody tr th {\n",
       "        vertical-align: top;\n",
       "    }\n",
       "\n",
       "    .dataframe thead th {\n",
       "        text-align: right;\n",
       "    }\n",
       "</style>\n",
       "<table border=\"1\" class=\"dataframe\">\n",
       "  <thead>\n",
       "    <tr style=\"text-align: right;\">\n",
       "      <th></th>\n",
       "      <th>index</th>\n",
       "      <th>title</th>\n",
       "      <th>genre</th>\n",
       "      <th>summary</th>\n",
       "      <th>word_count</th>\n",
       "    </tr>\n",
       "  </thead>\n",
       "  <tbody>\n",
       "    <tr>\n",
       "      <th>0</th>\n",
       "      <td>0</td>\n",
       "      <td>Drowned Wednesday</td>\n",
       "      <td>fantasy</td>\n",
       "      <td>Drowned Wednesday is the first Trustee among ...</td>\n",
       "      <td>803</td>\n",
       "    </tr>\n",
       "    <tr>\n",
       "      <th>1</th>\n",
       "      <td>1</td>\n",
       "      <td>The Lost Hero</td>\n",
       "      <td>fantasy</td>\n",
       "      <td>As the book opens, Jason awakens on a school ...</td>\n",
       "      <td>563</td>\n",
       "    </tr>\n",
       "    <tr>\n",
       "      <th>2</th>\n",
       "      <td>2</td>\n",
       "      <td>The Eyes of the Overworld</td>\n",
       "      <td>fantasy</td>\n",
       "      <td>Cugel is easily persuaded by the merchant Fia...</td>\n",
       "      <td>334</td>\n",
       "    </tr>\n",
       "    <tr>\n",
       "      <th>3</th>\n",
       "      <td>3</td>\n",
       "      <td>Magic's Promise</td>\n",
       "      <td>fantasy</td>\n",
       "      <td>The book opens with Herald-Mage Vanyel return...</td>\n",
       "      <td>776</td>\n",
       "    </tr>\n",
       "    <tr>\n",
       "      <th>4</th>\n",
       "      <td>4</td>\n",
       "      <td>Taran Wanderer</td>\n",
       "      <td>fantasy</td>\n",
       "      <td>Taran and Gurgi have returned to Caer Dallben...</td>\n",
       "      <td>1190</td>\n",
       "    </tr>\n",
       "  </tbody>\n",
       "</table>\n",
       "</div>"
      ],
      "text/plain": [
       "   index                      title    genre  \\\n",
       "0      0          Drowned Wednesday  fantasy   \n",
       "1      1              The Lost Hero  fantasy   \n",
       "2      2  The Eyes of the Overworld  fantasy   \n",
       "3      3            Magic's Promise  fantasy   \n",
       "4      4             Taran Wanderer  fantasy   \n",
       "\n",
       "                                             summary  word_count  \n",
       "0   Drowned Wednesday is the first Trustee among ...         803  \n",
       "1   As the book opens, Jason awakens on a school ...         563  \n",
       "2   Cugel is easily persuaded by the merchant Fia...         334  \n",
       "3   The book opens with Herald-Mage Vanyel return...         776  \n",
       "4   Taran and Gurgi have returned to Caer Dallben...        1190  "
      ]
     },
     "execution_count": 10,
     "metadata": {},
     "output_type": "execute_result"
    }
   ],
   "source": [
    "# count words of lyrics\n",
    "data[\"word_count\"] = data.summary.str.split().str.len()\n",
    "print('Minimum word count: ', data.word_count.min())\n",
    "print('Maximum word count: ', data.word_count.max())\n",
    "data.head()"
   ]
  },
  {
   "cell_type": "code",
   "execution_count": 11,
   "id": "73afe189",
   "metadata": {},
   "outputs": [
    {
     "data": {
      "image/png": "[encoded data removed]",
      "text/plain": [
       "<Figure size 432x288 with 1 Axes>"
      ]
     },
     "metadata": {
      "needs_background": "light"
     },
     "output_type": "display_data"
    }
   ],
   "source": [
    "# density plot of word_count for summary with shade\n",
    "sns.kdeplot(data['word_count'], shade=True)\n",
    "plt.show()"
   ]
  },
  {
   "cell_type": "code",
   "execution_count": 12,
   "id": "4a38c235",
   "metadata": {},
   "outputs": [
    {
     "data": {
      "text/plain": [
       "count    4657.000000\n",
       "mean      359.148594\n",
       "std       437.584315\n",
       "min         1.000000\n",
       "25%       118.000000\n",
       "50%       193.000000\n",
       "75%       436.000000\n",
       "max      5663.000000\n",
       "Name: word_count, dtype: float64"
      ]
     },
     "execution_count": 12,
     "metadata": {},
     "output_type": "execute_result"
    }
   ],
   "source": [
    "data.word_count.describe()"
   ]
  },
  {
   "cell_type": "markdown",
   "id": "0695f4b3",
   "metadata": {},
   "source": [
    "We observe that the word count varies so much, with minimum value as 1 and maximum value as 5663"
   ]
  },
  {
   "cell_type": "markdown",
   "id": "7b11ea27",
   "metadata": {},
   "source": [
    "# Data Cleaning"
   ]
  },
  {
   "cell_type": "code",
   "execution_count": 13,
   "id": "60a19f6b",
   "metadata": {},
   "outputs": [],
   "source": [
    "# Drop column index\n",
    "data = data.drop(['index'], axis=1)"
   ]
  },
  {
   "cell_type": "code",
   "execution_count": 14,
   "id": "e8115723",
   "metadata": {},
   "outputs": [
    {
     "name": "stdout",
     "output_type": "stream",
     "text": [
      "Available genres:  ['fantasy' 'science' 'crime' 'history' 'horror' 'thriller']\n"
     ]
    }
   ],
   "source": [
    "# We remove the genres that are very few in number.\n",
    "\n",
    "# Remove Genres\n",
    "remove_genre_list = ['romance', 'psychology', 'sports', 'travel']\n",
    "\n",
    "data = data[~data['genre'].isin(remove_genre_list)]\n",
    "print(\"Available genres: \", data.genre.unique())"
   ]
  },
  {
   "cell_type": "code",
   "execution_count": 15,
   "id": "5c02e89e",
   "metadata": {},
   "outputs": [
    {
     "data": {
      "text/html": [
       "<div>\n",
       "<style scoped>\n",
       "    .dataframe tbody tr th:only-of-type {\n",
       "        vertical-align: middle;\n",
       "    }\n",
       "\n",
       "    .dataframe tbody tr th {\n",
       "        vertical-align: top;\n",
       "    }\n",
       "\n",
       "    .dataframe thead th {\n",
       "        text-align: right;\n",
       "    }\n",
       "</style>\n",
       "<table border=\"1\" class=\"dataframe\">\n",
       "  <thead>\n",
       "    <tr style=\"text-align: right;\">\n",
       "      <th></th>\n",
       "      <th>title</th>\n",
       "      <th>genre</th>\n",
       "      <th>summary</th>\n",
       "      <th>word_count</th>\n",
       "    </tr>\n",
       "  </thead>\n",
       "  <tbody>\n",
       "    <tr>\n",
       "      <th>0</th>\n",
       "      <td>Drowned Wednesday</td>\n",
       "      <td>fantasy</td>\n",
       "      <td>Drowned Wednesday is the first Trustee among ...</td>\n",
       "      <td>803</td>\n",
       "    </tr>\n",
       "    <tr>\n",
       "      <th>1</th>\n",
       "      <td>The Lost Hero</td>\n",
       "      <td>fantasy</td>\n",
       "      <td>As the book opens, Jason awakens on a school ...</td>\n",
       "      <td>563</td>\n",
       "    </tr>\n",
       "    <tr>\n",
       "      <th>2</th>\n",
       "      <td>The Eyes of the Overworld</td>\n",
       "      <td>fantasy</td>\n",
       "      <td>Cugel is easily persuaded by the merchant Fia...</td>\n",
       "      <td>334</td>\n",
       "    </tr>\n",
       "    <tr>\n",
       "      <th>3</th>\n",
       "      <td>Magic's Promise</td>\n",
       "      <td>fantasy</td>\n",
       "      <td>The book opens with Herald-Mage Vanyel return...</td>\n",
       "      <td>776</td>\n",
       "    </tr>\n",
       "    <tr>\n",
       "      <th>4</th>\n",
       "      <td>Taran Wanderer</td>\n",
       "      <td>fantasy</td>\n",
       "      <td>Taran and Gurgi have returned to Caer Dallben...</td>\n",
       "      <td>1190</td>\n",
       "    </tr>\n",
       "  </tbody>\n",
       "</table>\n",
       "</div>"
      ],
      "text/plain": [
       "                       title    genre  \\\n",
       "0          Drowned Wednesday  fantasy   \n",
       "1              The Lost Hero  fantasy   \n",
       "2  The Eyes of the Overworld  fantasy   \n",
       "3            Magic's Promise  fantasy   \n",
       "4             Taran Wanderer  fantasy   \n",
       "\n",
       "                                             summary  word_count  \n",
       "0   Drowned Wednesday is the first Trustee among ...         803  \n",
       "1   As the book opens, Jason awakens on a school ...         563  \n",
       "2   Cugel is easily persuaded by the merchant Fia...         334  \n",
       "3   The book opens with Herald-Mage Vanyel return...         776  \n",
       "4   Taran and Gurgi have returned to Caer Dallben...        1190  "
      ]
     },
     "execution_count": 15,
     "metadata": {},
     "output_type": "execute_result"
    }
   ],
   "source": [
    "# We remove all the duplicated rows with same title or summary\n",
    "data = data.drop_duplicates(subset='title', keep=\"first\")\n",
    "data = data.drop_duplicates(subset='summary', keep=\"first\")\n",
    "\n",
    "data.head()"
   ]
  },
  {
   "cell_type": "code",
   "execution_count": 16,
   "id": "0cf4f060",
   "metadata": {},
   "outputs": [
    {
     "data": {
      "image/png": "[encoded data removed]",
      "text/plain": [
       "<Figure size 432x288 with 1 Axes>"
      ]
     },
     "metadata": {
      "needs_background": "light"
     },
     "output_type": "display_data"
    }
   ],
   "source": [
    "# Remove rows with word_count less than 100 or more than 1000 \n",
    "MAX_WORD = 1500\n",
    "MIN_WORD = 100\n",
    "\n",
    "data = data[data.word_count <= MAX_WORD]\n",
    "data = data[data.word_count >= MIN_WORD]\n",
    "\n",
    "sns.kdeplot(data['word_count'], shade=True)\n",
    "plt.show()"
   ]
  },
  {
   "cell_type": "code",
   "execution_count": 17,
   "id": "4bef6f42",
   "metadata": {},
   "outputs": [
    {
     "data": {
      "text/html": [
       "<div>\n",
       "<style scoped>\n",
       "    .dataframe tbody tr th:only-of-type {\n",
       "        vertical-align: middle;\n",
       "    }\n",
       "\n",
       "    .dataframe tbody tr th {\n",
       "        vertical-align: top;\n",
       "    }\n",
       "\n",
       "    .dataframe thead th {\n",
       "        text-align: right;\n",
       "    }\n",
       "</style>\n",
       "<table border=\"1\" class=\"dataframe\">\n",
       "  <thead>\n",
       "    <tr style=\"text-align: right;\">\n",
       "      <th></th>\n",
       "      <th>title</th>\n",
       "      <th>genre</th>\n",
       "      <th>summary</th>\n",
       "      <th>word_count</th>\n",
       "    </tr>\n",
       "  </thead>\n",
       "  <tbody>\n",
       "    <tr>\n",
       "      <th>0</th>\n",
       "      <td>Drowned Wednesday</td>\n",
       "      <td>fantasy</td>\n",
       "      <td>Drowned Wednesday is the first Trustee among ...</td>\n",
       "      <td>803</td>\n",
       "    </tr>\n",
       "    <tr>\n",
       "      <th>1</th>\n",
       "      <td>The Lost Hero</td>\n",
       "      <td>fantasy</td>\n",
       "      <td>As the book opens, Jason awakens on a school ...</td>\n",
       "      <td>563</td>\n",
       "    </tr>\n",
       "    <tr>\n",
       "      <th>2</th>\n",
       "      <td>The Eyes of the Overworld</td>\n",
       "      <td>fantasy</td>\n",
       "      <td>Cugel is easily persuaded by the merchant Fia...</td>\n",
       "      <td>334</td>\n",
       "    </tr>\n",
       "    <tr>\n",
       "      <th>3</th>\n",
       "      <td>Magic's Promise</td>\n",
       "      <td>fantasy</td>\n",
       "      <td>The book opens with Herald-Mage Vanyel return...</td>\n",
       "      <td>776</td>\n",
       "    </tr>\n",
       "    <tr>\n",
       "      <th>4</th>\n",
       "      <td>Taran Wanderer</td>\n",
       "      <td>fantasy</td>\n",
       "      <td>Taran and Gurgi have returned to Caer Dallben...</td>\n",
       "      <td>1190</td>\n",
       "    </tr>\n",
       "    <tr>\n",
       "      <th>...</th>\n",
       "      <td>...</td>\n",
       "      <td>...</td>\n",
       "      <td>...</td>\n",
       "      <td>...</td>\n",
       "    </tr>\n",
       "    <tr>\n",
       "      <th>3097</th>\n",
       "      <td>Wintersmith</td>\n",
       "      <td>fantasy</td>\n",
       "      <td>Tiffany Aching is a trainee witch — now workin...</td>\n",
       "      <td>132</td>\n",
       "    </tr>\n",
       "    <tr>\n",
       "      <th>3098</th>\n",
       "      <td>Fantastic Beasts and Where to Find Them: The O...</td>\n",
       "      <td>fantasy</td>\n",
       "      <td>J.K. Rowling's screenwriting debut is captured...</td>\n",
       "      <td>117</td>\n",
       "    </tr>\n",
       "    <tr>\n",
       "      <th>3099</th>\n",
       "      <td>Hounded</td>\n",
       "      <td>fantasy</td>\n",
       "      <td>Atticus O’Sullivan, last of the Druids, lives ...</td>\n",
       "      <td>144</td>\n",
       "    </tr>\n",
       "    <tr>\n",
       "      <th>3100</th>\n",
       "      <td>Red Rising</td>\n",
       "      <td>fantasy</td>\n",
       "      <td>\"I live for the dream that my children will be...</td>\n",
       "      <td>244</td>\n",
       "    </tr>\n",
       "    <tr>\n",
       "      <th>3101</th>\n",
       "      <td>Radiance</td>\n",
       "      <td>fantasy</td>\n",
       "      <td>The Prince of no value\\nBrishen Khaskem, princ...</td>\n",
       "      <td>195</td>\n",
       "    </tr>\n",
       "  </tbody>\n",
       "</table>\n",
       "<p>3102 rows × 4 columns</p>\n",
       "</div>"
      ],
      "text/plain": [
       "                                                  title    genre  \\\n",
       "0                                     Drowned Wednesday  fantasy   \n",
       "1                                         The Lost Hero  fantasy   \n",
       "2                             The Eyes of the Overworld  fantasy   \n",
       "3                                       Magic's Promise  fantasy   \n",
       "4                                        Taran Wanderer  fantasy   \n",
       "...                                                 ...      ...   \n",
       "3097                                        Wintersmith  fantasy   \n",
       "3098  Fantastic Beasts and Where to Find Them: The O...  fantasy   \n",
       "3099                                            Hounded  fantasy   \n",
       "3100                                         Red Rising  fantasy   \n",
       "3101                                           Radiance  fantasy   \n",
       "\n",
       "                                                summary  word_count  \n",
       "0      Drowned Wednesday is the first Trustee among ...         803  \n",
       "1      As the book opens, Jason awakens on a school ...         563  \n",
       "2      Cugel is easily persuaded by the merchant Fia...         334  \n",
       "3      The book opens with Herald-Mage Vanyel return...         776  \n",
       "4      Taran and Gurgi have returned to Caer Dallben...        1190  \n",
       "...                                                 ...         ...  \n",
       "3097  Tiffany Aching is a trainee witch — now workin...         132  \n",
       "3098  J.K. Rowling's screenwriting debut is captured...         117  \n",
       "3099  Atticus O’Sullivan, last of the Druids, lives ...         144  \n",
       "3100  \"I live for the dream that my children will be...         244  \n",
       "3101  The Prince of no value\\nBrishen Khaskem, princ...         195  \n",
       "\n",
       "[3102 rows x 4 columns]"
      ]
     },
     "execution_count": 17,
     "metadata": {},
     "output_type": "execute_result"
    }
   ],
   "source": [
    "data = data.reset_index(drop=True)\n",
    "data"
   ]
  },
  {
   "cell_type": "code",
   "execution_count": 19,
   "id": "5fb043df",
   "metadata": {},
   "outputs": [
    {
     "data": {
      "text/plain": [
       "<AxesSubplot:>"
      ]
     },
     "execution_count": 19,
     "metadata": {},
     "output_type": "execute_result"
    },
    {
     "data": {
      "image/png": "[encoded data removed]",
      "text/plain": [
       "<Figure size 432x288 with 1 Axes>"
      ]
     },
     "metadata": {
      "needs_background": "light"
     },
     "output_type": "display_data"
    }
   ],
   "source": [
    "data.genre.value_counts().sort_values(ascending = False).plot(kind = 'bar')"
   ]
  },
  {
   "cell_type": "markdown",
   "id": "cd272780",
   "metadata": {},
   "source": [
    "# Export Cleaned Data"
   ]
  },
  {
   "cell_type": "code",
   "execution_count": 18,
   "id": "b2938b02",
   "metadata": {},
   "outputs": [],
   "source": [
    "# Export data\n",
    "data.to_csv( \"data/clean_data.csv\", index=False, encoding='utf-8-sig')"
   ]
  }
 ],
 "metadata": {
  "kernelspec": {
   "display_name": "Python 3 (ipykernel)",
   "language": "python",
   "name": "python3"
  },
  "language_info": {
   "codemirror_mode": {
    "name": "ipython",
    "version": 3
   },
   "file_extension": ".py",
   "mimetype": "text/x-python",
   "name": "python",
   "nbconvert_exporter": "python",
   "pygments_lexer": "ipython3",
   "version": "3.9.12"
  }
 },
 "nbformat": 4,
 "nbformat_minor": 5
}
